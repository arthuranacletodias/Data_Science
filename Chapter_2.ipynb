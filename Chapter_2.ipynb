{
 "cells": [
  {
   "cell_type": "code",
   "execution_count": 1,
   "id": "bebbf2b5-e408-4773-b512-6490997b2b93",
   "metadata": {
    "ExecuteTime": {
     "end_time": "2022-09-26T23:29:32.637635Z",
     "start_time": "2022-09-26T23:29:30.735393Z"
    }
   },
   "outputs": [],
   "source": [
    "# importando as bibliotecas necessárias\n",
    "import os\n",
    "import tarfile\n",
    "import urllib\n",
    "import pandas as pd\n",
    "from pandas.plotting import scatter_matrix\n",
    "from sklearn.model_selection import train_test_split\n",
    "from sklearn.model_selection import StratifiedShuffleSplit\n",
    "from sklearn.impute import SimpleImputer\n",
    "import seaborn as sns\n",
    "import matplotlib as plt"
   ]
  },
  {
   "cell_type": "code",
   "execution_count": 2,
   "id": "f6e23fea-ef7d-44ff-ae9c-58c6abd48c98",
   "metadata": {
    "ExecuteTime": {
     "end_time": "2022-09-26T23:29:33.666169Z",
     "start_time": "2022-09-26T23:29:33.646553Z"
    }
   },
   "outputs": [],
   "source": [
    "# url do github\n",
    "DOWNLOAD_ROOT = \"https://raw.githubusercontent.com/ageron/handson-ml2/master/\"\n",
    "HOUSING_PATH = os.path.join(\"datasets\", \"housing\")\n",
    "#url + caminho do arquivo\n",
    "HOUSING_URL = DOWNLOAD_ROOT + \"datasets/housing/housing.tgz\"\n",
    "#função baixar o aruivo, criar caminho local e descompactar \n",
    "def fetch_housing_data(housing_url=HOUSING_URL, housing_path=HOUSING_PATH):\n",
    "    os.makedirs(housing_path, exist_ok=True)\n",
    "    tgz_path = os.path.join(housing_path, \"housing.tgz\")\n",
    "    urllib.request.urlretrieve(housing_url, tgz_path)\n",
    "    housing_tgz = tarfile.open(tgz_path)\n",
    "    housing_tgz.extractall(path=housing_path)\n",
    "    housing_tgz.close()\n",
    "    \n",
    "#função para ler o data set hounsing \n",
    "def load_housing_data(housing_path=HOUSING_PATH):\n",
    "    csv_path = os.path.join(housing_path, \"housing.csv\")\n",
    "    return pd.read_csv(csv_path)    \n",
    "    \n",
    "    \n",
    "    "
   ]
  },
  {
   "cell_type": "code",
   "execution_count": 3,
   "id": "d0b5eaef-cdc4-4380-b7cf-356f2edfb959",
   "metadata": {
    "ExecuteTime": {
     "end_time": "2022-09-26T23:29:42.122426Z",
     "start_time": "2022-09-26T23:29:41.949510Z"
    }
   },
   "outputs": [],
   "source": [
    "#baixando, criando e descompactando base de dados\n",
    "fetch_housing_data()"
   ]
  },
  {
   "cell_type": "code",
   "execution_count": 4,
   "id": "fcdf74dd-1b7b-48bb-8f0a-c1fae9f68e47",
   "metadata": {
    "ExecuteTime": {
     "end_time": "2022-09-26T23:30:00.928250Z",
     "start_time": "2022-09-26T23:30:00.870592Z"
    },
    "tags": []
   },
   "outputs": [],
   "source": [
    "#atribuindo o df a variável housing\n",
    "housing = load_housing_data()"
   ]
  },
  {
   "cell_type": "code",
   "execution_count": 10,
   "id": "5d02fa53",
   "metadata": {
    "ExecuteTime": {
     "end_time": "2022-09-26T23:31:16.887742Z",
     "start_time": "2022-09-26T23:31:16.862812Z"
    }
   },
   "outputs": [
    {
     "data": {
      "text/html": [
       "<div>\n",
       "<style scoped>\n",
       "    .dataframe tbody tr th:only-of-type {\n",
       "        vertical-align: middle;\n",
       "    }\n",
       "\n",
       "    .dataframe tbody tr th {\n",
       "        vertical-align: top;\n",
       "    }\n",
       "\n",
       "    .dataframe thead th {\n",
       "        text-align: right;\n",
       "    }\n",
       "</style>\n",
       "<table border=\"1\" class=\"dataframe\">\n",
       "  <thead>\n",
       "    <tr style=\"text-align: right;\">\n",
       "      <th></th>\n",
       "      <th>longitude</th>\n",
       "      <th>latitude</th>\n",
       "      <th>housing_median_age</th>\n",
       "      <th>total_rooms</th>\n",
       "      <th>total_bedrooms</th>\n",
       "      <th>population</th>\n",
       "      <th>households</th>\n",
       "      <th>median_income</th>\n",
       "      <th>median_house_value</th>\n",
       "      <th>ocean_proximity</th>\n",
       "    </tr>\n",
       "  </thead>\n",
       "  <tbody>\n",
       "    <tr>\n",
       "      <th>0</th>\n",
       "      <td>-122.23</td>\n",
       "      <td>37.88</td>\n",
       "      <td>41.0</td>\n",
       "      <td>880.0</td>\n",
       "      <td>129.0</td>\n",
       "      <td>322.0</td>\n",
       "      <td>126.0</td>\n",
       "      <td>8.3252</td>\n",
       "      <td>452600.0</td>\n",
       "      <td>NEAR BAY</td>\n",
       "    </tr>\n",
       "    <tr>\n",
       "      <th>1</th>\n",
       "      <td>-122.22</td>\n",
       "      <td>37.86</td>\n",
       "      <td>21.0</td>\n",
       "      <td>7099.0</td>\n",
       "      <td>1106.0</td>\n",
       "      <td>2401.0</td>\n",
       "      <td>1138.0</td>\n",
       "      <td>8.3014</td>\n",
       "      <td>358500.0</td>\n",
       "      <td>NEAR BAY</td>\n",
       "    </tr>\n",
       "    <tr>\n",
       "      <th>2</th>\n",
       "      <td>-122.24</td>\n",
       "      <td>37.85</td>\n",
       "      <td>52.0</td>\n",
       "      <td>1467.0</td>\n",
       "      <td>190.0</td>\n",
       "      <td>496.0</td>\n",
       "      <td>177.0</td>\n",
       "      <td>7.2574</td>\n",
       "      <td>352100.0</td>\n",
       "      <td>NEAR BAY</td>\n",
       "    </tr>\n",
       "    <tr>\n",
       "      <th>3</th>\n",
       "      <td>-122.25</td>\n",
       "      <td>37.85</td>\n",
       "      <td>52.0</td>\n",
       "      <td>1274.0</td>\n",
       "      <td>235.0</td>\n",
       "      <td>558.0</td>\n",
       "      <td>219.0</td>\n",
       "      <td>5.6431</td>\n",
       "      <td>341300.0</td>\n",
       "      <td>NEAR BAY</td>\n",
       "    </tr>\n",
       "    <tr>\n",
       "      <th>4</th>\n",
       "      <td>-122.25</td>\n",
       "      <td>37.85</td>\n",
       "      <td>52.0</td>\n",
       "      <td>1627.0</td>\n",
       "      <td>280.0</td>\n",
       "      <td>565.0</td>\n",
       "      <td>259.0</td>\n",
       "      <td>3.8462</td>\n",
       "      <td>342200.0</td>\n",
       "      <td>NEAR BAY</td>\n",
       "    </tr>\n",
       "    <tr>\n",
       "      <th>5</th>\n",
       "      <td>-122.25</td>\n",
       "      <td>37.85</td>\n",
       "      <td>52.0</td>\n",
       "      <td>919.0</td>\n",
       "      <td>213.0</td>\n",
       "      <td>413.0</td>\n",
       "      <td>193.0</td>\n",
       "      <td>4.0368</td>\n",
       "      <td>269700.0</td>\n",
       "      <td>NEAR BAY</td>\n",
       "    </tr>\n",
       "    <tr>\n",
       "      <th>6</th>\n",
       "      <td>-122.25</td>\n",
       "      <td>37.84</td>\n",
       "      <td>52.0</td>\n",
       "      <td>2535.0</td>\n",
       "      <td>489.0</td>\n",
       "      <td>1094.0</td>\n",
       "      <td>514.0</td>\n",
       "      <td>3.6591</td>\n",
       "      <td>299200.0</td>\n",
       "      <td>NEAR BAY</td>\n",
       "    </tr>\n",
       "    <tr>\n",
       "      <th>7</th>\n",
       "      <td>-122.25</td>\n",
       "      <td>37.84</td>\n",
       "      <td>52.0</td>\n",
       "      <td>3104.0</td>\n",
       "      <td>687.0</td>\n",
       "      <td>1157.0</td>\n",
       "      <td>647.0</td>\n",
       "      <td>3.1200</td>\n",
       "      <td>241400.0</td>\n",
       "      <td>NEAR BAY</td>\n",
       "    </tr>\n",
       "    <tr>\n",
       "      <th>8</th>\n",
       "      <td>-122.26</td>\n",
       "      <td>37.84</td>\n",
       "      <td>42.0</td>\n",
       "      <td>2555.0</td>\n",
       "      <td>665.0</td>\n",
       "      <td>1206.0</td>\n",
       "      <td>595.0</td>\n",
       "      <td>2.0804</td>\n",
       "      <td>226700.0</td>\n",
       "      <td>NEAR BAY</td>\n",
       "    </tr>\n",
       "    <tr>\n",
       "      <th>9</th>\n",
       "      <td>-122.25</td>\n",
       "      <td>37.84</td>\n",
       "      <td>52.0</td>\n",
       "      <td>3549.0</td>\n",
       "      <td>707.0</td>\n",
       "      <td>1551.0</td>\n",
       "      <td>714.0</td>\n",
       "      <td>3.6912</td>\n",
       "      <td>261100.0</td>\n",
       "      <td>NEAR BAY</td>\n",
       "    </tr>\n",
       "  </tbody>\n",
       "</table>\n",
       "</div>"
      ],
      "text/plain": [
       "   longitude  latitude  housing_median_age  total_rooms  total_bedrooms  \\\n",
       "0    -122.23     37.88                41.0        880.0           129.0   \n",
       "1    -122.22     37.86                21.0       7099.0          1106.0   \n",
       "2    -122.24     37.85                52.0       1467.0           190.0   \n",
       "3    -122.25     37.85                52.0       1274.0           235.0   \n",
       "4    -122.25     37.85                52.0       1627.0           280.0   \n",
       "5    -122.25     37.85                52.0        919.0           213.0   \n",
       "6    -122.25     37.84                52.0       2535.0           489.0   \n",
       "7    -122.25     37.84                52.0       3104.0           687.0   \n",
       "8    -122.26     37.84                42.0       2555.0           665.0   \n",
       "9    -122.25     37.84                52.0       3549.0           707.0   \n",
       "\n",
       "   population  households  median_income  median_house_value ocean_proximity  \n",
       "0       322.0       126.0         8.3252            452600.0        NEAR BAY  \n",
       "1      2401.0      1138.0         8.3014            358500.0        NEAR BAY  \n",
       "2       496.0       177.0         7.2574            352100.0        NEAR BAY  \n",
       "3       558.0       219.0         5.6431            341300.0        NEAR BAY  \n",
       "4       565.0       259.0         3.8462            342200.0        NEAR BAY  \n",
       "5       413.0       193.0         4.0368            269700.0        NEAR BAY  \n",
       "6      1094.0       514.0         3.6591            299200.0        NEAR BAY  \n",
       "7      1157.0       647.0         3.1200            241400.0        NEAR BAY  \n",
       "8      1206.0       595.0         2.0804            226700.0        NEAR BAY  \n",
       "9      1551.0       714.0         3.6912            261100.0        NEAR BAY  "
      ]
     },
     "execution_count": 10,
     "metadata": {},
     "output_type": "execute_result"
    }
   ],
   "source": [
    "# para visualizar o dataframe completo quando for de muitas colunas e linhas\n",
    "'''pd.set_option('display.max_rows',500)\n",
    "pd.set_option('display.max_columns',500)\n",
    "pd.set_option('display.width',1000)'''\n",
    "\n",
    "housing.head(10) # visualizando primeiras 10 linhas do dataframe"
   ]
  },
  {
   "cell_type": "code",
   "execution_count": 12,
   "id": "38c44cf1",
   "metadata": {
    "ExecuteTime": {
     "end_time": "2022-09-26T23:31:29.008829Z",
     "start_time": "2022-09-26T23:31:28.990593Z"
    }
   },
   "outputs": [
    {
     "data": {
      "text/plain": [
       "(20640, 10)"
      ]
     },
     "execution_count": 12,
     "metadata": {},
     "output_type": "execute_result"
    }
   ],
   "source": [
    "# total de linhas x colunas do dataframe\n",
    "housing.shape"
   ]
  },
  {
   "cell_type": "code",
   "execution_count": 14,
   "id": "a556d961",
   "metadata": {
    "ExecuteTime": {
     "end_time": "2022-09-26T23:33:00.353090Z",
     "start_time": "2022-09-26T23:33:00.327064Z"
    }
   },
   "outputs": [
    {
     "name": "stdout",
     "output_type": "stream",
     "text": [
      "<class 'pandas.core.frame.DataFrame'>\n",
      "RangeIndex: 20640 entries, 0 to 20639\n",
      "Data columns (total 10 columns):\n",
      " #   Column              Non-Null Count  Dtype  \n",
      "---  ------              --------------  -----  \n",
      " 0   longitude           20640 non-null  float64\n",
      " 1   latitude            20640 non-null  float64\n",
      " 2   housing_median_age  20640 non-null  float64\n",
      " 3   total_rooms         20640 non-null  float64\n",
      " 4   total_bedrooms      20433 non-null  float64\n",
      " 5   population          20640 non-null  float64\n",
      " 6   households          20640 non-null  float64\n",
      " 7   median_income       20640 non-null  float64\n",
      " 8   median_house_value  20640 non-null  float64\n",
      " 9   ocean_proximity     20640 non-null  object \n",
      "dtypes: float64(9), object(1)\n",
      "memory usage: 1.6+ MB\n"
     ]
    }
   ],
   "source": [
    "# resumo do df\n",
    "housing.info() \n",
    "# 1 atributo categórico e 1 atributo com dados nulos"
   ]
  },
  {
   "cell_type": "code",
   "execution_count": 16,
   "id": "e0aa1fe2",
   "metadata": {
    "ExecuteTime": {
     "end_time": "2022-09-26T23:33:52.289672Z",
     "start_time": "2022-09-26T23:33:52.279561Z"
    }
   },
   "outputs": [
    {
     "data": {
      "text/plain": [
       "<1H OCEAN     9136\n",
       "INLAND        6551\n",
       "NEAR OCEAN    2658\n",
       "NEAR BAY      2290\n",
       "ISLAND           5\n",
       "Name: ocean_proximity, dtype: int64"
      ]
     },
     "execution_count": 16,
     "metadata": {},
     "output_type": "execute_result"
    }
   ],
   "source": [
    "# verificando quais e quantas categorias existem na variável categórica ocean_proximity\n",
    "housing[\"ocean_proximity\"].value_counts()"
   ]
  },
  {
   "cell_type": "code",
   "execution_count": 17,
   "id": "b3c849a4",
   "metadata": {
    "ExecuteTime": {
     "end_time": "2022-09-26T23:34:06.296234Z",
     "start_time": "2022-09-26T23:34:06.246241Z"
    }
   },
   "outputs": [
    {
     "data": {
      "text/html": [
       "<div>\n",
       "<style scoped>\n",
       "    .dataframe tbody tr th:only-of-type {\n",
       "        vertical-align: middle;\n",
       "    }\n",
       "\n",
       "    .dataframe tbody tr th {\n",
       "        vertical-align: top;\n",
       "    }\n",
       "\n",
       "    .dataframe thead th {\n",
       "        text-align: right;\n",
       "    }\n",
       "</style>\n",
       "<table border=\"1\" class=\"dataframe\">\n",
       "  <thead>\n",
       "    <tr style=\"text-align: right;\">\n",
       "      <th></th>\n",
       "      <th>longitude</th>\n",
       "      <th>latitude</th>\n",
       "      <th>housing_median_age</th>\n",
       "      <th>total_rooms</th>\n",
       "      <th>total_bedrooms</th>\n",
       "      <th>population</th>\n",
       "      <th>households</th>\n",
       "      <th>median_income</th>\n",
       "      <th>median_house_value</th>\n",
       "    </tr>\n",
       "  </thead>\n",
       "  <tbody>\n",
       "    <tr>\n",
       "      <th>count</th>\n",
       "      <td>20640.000000</td>\n",
       "      <td>20640.000000</td>\n",
       "      <td>20640.000000</td>\n",
       "      <td>20640.000000</td>\n",
       "      <td>20433.000000</td>\n",
       "      <td>20640.000000</td>\n",
       "      <td>20640.000000</td>\n",
       "      <td>20640.000000</td>\n",
       "      <td>20640.000000</td>\n",
       "    </tr>\n",
       "    <tr>\n",
       "      <th>mean</th>\n",
       "      <td>-119.569704</td>\n",
       "      <td>35.631861</td>\n",
       "      <td>28.639486</td>\n",
       "      <td>2635.763081</td>\n",
       "      <td>537.870553</td>\n",
       "      <td>1425.476744</td>\n",
       "      <td>499.539680</td>\n",
       "      <td>3.870671</td>\n",
       "      <td>206855.816909</td>\n",
       "    </tr>\n",
       "    <tr>\n",
       "      <th>std</th>\n",
       "      <td>2.003532</td>\n",
       "      <td>2.135952</td>\n",
       "      <td>12.585558</td>\n",
       "      <td>2181.615252</td>\n",
       "      <td>421.385070</td>\n",
       "      <td>1132.462122</td>\n",
       "      <td>382.329753</td>\n",
       "      <td>1.899822</td>\n",
       "      <td>115395.615874</td>\n",
       "    </tr>\n",
       "    <tr>\n",
       "      <th>min</th>\n",
       "      <td>-124.350000</td>\n",
       "      <td>32.540000</td>\n",
       "      <td>1.000000</td>\n",
       "      <td>2.000000</td>\n",
       "      <td>1.000000</td>\n",
       "      <td>3.000000</td>\n",
       "      <td>1.000000</td>\n",
       "      <td>0.499900</td>\n",
       "      <td>14999.000000</td>\n",
       "    </tr>\n",
       "    <tr>\n",
       "      <th>25%</th>\n",
       "      <td>-121.800000</td>\n",
       "      <td>33.930000</td>\n",
       "      <td>18.000000</td>\n",
       "      <td>1447.750000</td>\n",
       "      <td>296.000000</td>\n",
       "      <td>787.000000</td>\n",
       "      <td>280.000000</td>\n",
       "      <td>2.563400</td>\n",
       "      <td>119600.000000</td>\n",
       "    </tr>\n",
       "    <tr>\n",
       "      <th>50%</th>\n",
       "      <td>-118.490000</td>\n",
       "      <td>34.260000</td>\n",
       "      <td>29.000000</td>\n",
       "      <td>2127.000000</td>\n",
       "      <td>435.000000</td>\n",
       "      <td>1166.000000</td>\n",
       "      <td>409.000000</td>\n",
       "      <td>3.534800</td>\n",
       "      <td>179700.000000</td>\n",
       "    </tr>\n",
       "    <tr>\n",
       "      <th>75%</th>\n",
       "      <td>-118.010000</td>\n",
       "      <td>37.710000</td>\n",
       "      <td>37.000000</td>\n",
       "      <td>3148.000000</td>\n",
       "      <td>647.000000</td>\n",
       "      <td>1725.000000</td>\n",
       "      <td>605.000000</td>\n",
       "      <td>4.743250</td>\n",
       "      <td>264725.000000</td>\n",
       "    </tr>\n",
       "    <tr>\n",
       "      <th>max</th>\n",
       "      <td>-114.310000</td>\n",
       "      <td>41.950000</td>\n",
       "      <td>52.000000</td>\n",
       "      <td>39320.000000</td>\n",
       "      <td>6445.000000</td>\n",
       "      <td>35682.000000</td>\n",
       "      <td>6082.000000</td>\n",
       "      <td>15.000100</td>\n",
       "      <td>500001.000000</td>\n",
       "    </tr>\n",
       "  </tbody>\n",
       "</table>\n",
       "</div>"
      ],
      "text/plain": [
       "          longitude      latitude  housing_median_age   total_rooms  \\\n",
       "count  20640.000000  20640.000000        20640.000000  20640.000000   \n",
       "mean    -119.569704     35.631861           28.639486   2635.763081   \n",
       "std        2.003532      2.135952           12.585558   2181.615252   \n",
       "min     -124.350000     32.540000            1.000000      2.000000   \n",
       "25%     -121.800000     33.930000           18.000000   1447.750000   \n",
       "50%     -118.490000     34.260000           29.000000   2127.000000   \n",
       "75%     -118.010000     37.710000           37.000000   3148.000000   \n",
       "max     -114.310000     41.950000           52.000000  39320.000000   \n",
       "\n",
       "       total_bedrooms    population    households  median_income  \\\n",
       "count    20433.000000  20640.000000  20640.000000   20640.000000   \n",
       "mean       537.870553   1425.476744    499.539680       3.870671   \n",
       "std        421.385070   1132.462122    382.329753       1.899822   \n",
       "min          1.000000      3.000000      1.000000       0.499900   \n",
       "25%        296.000000    787.000000    280.000000       2.563400   \n",
       "50%        435.000000   1166.000000    409.000000       3.534800   \n",
       "75%        647.000000   1725.000000    605.000000       4.743250   \n",
       "max       6445.000000  35682.000000   6082.000000      15.000100   \n",
       "\n",
       "       median_house_value  \n",
       "count        20640.000000  \n",
       "mean        206855.816909  \n",
       "std         115395.615874  \n",
       "min          14999.000000  \n",
       "25%         119600.000000  \n",
       "50%         179700.000000  \n",
       "75%         264725.000000  \n",
       "max         500001.000000  "
      ]
     },
     "execution_count": 17,
     "metadata": {},
     "output_type": "execute_result"
    }
   ],
   "source": [
    "'''\n",
    "Temos atibutos com baixa e alta variabilidade verificando os valores mínimos e máximos,\n",
    "\n",
    "'''\n",
    "housing.describe()  # resumo estatístico do df"
   ]
  },
  {
   "cell_type": "code",
   "execution_count": null,
   "id": "fbc203da",
   "metadata": {
    "ExecuteTime": {
     "end_time": "2022-09-19T20:49:31.177398Z",
     "start_time": "2022-09-19T20:49:27.886014Z"
    }
   },
   "outputs": [],
   "source": [
    "# verificando histograma das variáveis\n",
    "\n",
    "'''\n",
    "Podemos afirmar que temos mais de 1200 distritos com media de idade com 52 anos.\n",
    "\n",
    "obs: cuidado com o número de bins, pois pode confundir a análise.\n",
    "'''\n",
    "import matplotlib.pyplot as plt\n",
    "%matplotlib inline\n",
    "housing.hist(bins=75, figsize=(20, 15), legend=True);"
   ]
  },
  {
   "cell_type": "code",
   "execution_count": null,
   "id": "ab5797af",
   "metadata": {
    "ExecuteTime": {
     "end_time": "2022-09-19T19:49:43.204800Z",
     "start_time": "2022-09-19T19:49:43.190831Z"
    }
   },
   "outputs": [],
   "source": [
    "# Separando o dataframe em conjunto de treino e teste com 20% para treino usando sklearn\n",
    "# Usando random_state=42 teremos um mesmo conjunto para treino e um mesmo conjunto para teste\n",
    "train_set, test_set = train_test_split(housing, test_size=0.2, random_state=42)"
   ]
  },
  {
   "cell_type": "code",
   "execution_count": null,
   "id": "370fc0f9",
   "metadata": {
    "ExecuteTime": {
     "end_time": "2022-09-19T19:49:45.090013Z",
     "start_time": "2022-09-19T19:49:45.071037Z"
    }
   },
   "outputs": [],
   "source": [
    "# Verificando tamanho dos conjuntos de treino e teste respectivamente\n",
    "train_set.shape, test_set.shape"
   ]
  },
  {
   "cell_type": "code",
   "execution_count": null,
   "id": "30e9fc28",
   "metadata": {
    "ExecuteTime": {
     "end_time": "2022-09-19T19:49:47.809037Z",
     "start_time": "2022-09-19T19:49:47.782105Z"
    }
   },
   "outputs": [],
   "source": [
    "'''\n",
    "Criando um atributo categórico de renda com cinco categorias rotuladas de 1 a 5\n",
    "sendo que a categoria 1 varia de 0 a 1,5(US$ 15.000) \n",
    "categoria 2 de 1,5 a 3 e assim por diante.\n",
    "Visto que queremos ter a mesma proporção de amostragem entre as categorias\n",
    "de renda média afim de evitar viés de amostragem\n",
    "'''\n",
    "housing[\"renda_mediana_cat\"] = pd.cut(housing[\"renda_mediana\"],\n",
    "                               bins=[0., 1.5, 3.0, 4.5, 6., np.inf],\n",
    "                               labels=[1, 2, 3, 4, 5])"
   ]
  },
  {
   "cell_type": "code",
   "execution_count": null,
   "id": "75793a02",
   "metadata": {
    "ExecuteTime": {
     "end_time": "2022-09-19T19:49:51.491706Z",
     "start_time": "2022-09-19T19:49:51.342071Z"
    }
   },
   "outputs": [],
   "source": [
    "housing[\"renda_mediana_cat\"].hist()\n"
   ]
  },
  {
   "cell_type": "code",
   "execution_count": null,
   "id": "0820ffbb",
   "metadata": {
    "ExecuteTime": {
     "end_time": "2022-09-19T19:50:08.703415Z",
     "start_time": "2022-09-19T19:50:08.687437Z"
    }
   },
   "outputs": [],
   "source": [
    "'''\n",
    "Criando conjunto de treino e teste com amostras estratificadas mantendo a \n",
    "mesma proporão do conjunto de dados completo por categoria\n",
    "'''\n",
    "\n",
    "split = StratifiedShuffleSplit(n_splits=1, test_size=0.2, random_state=42)\n",
    "for train_index, test_index in split.split(housing, housing[\"renda_mediana_cat\"]):\n",
    "    strat_train_set = housing.loc[train_index]\n",
    "    strat_test_set = housing.loc[test_index]"
   ]
  },
  {
   "cell_type": "code",
   "execution_count": null,
   "id": "20e70308",
   "metadata": {
    "ExecuteTime": {
     "end_time": "2022-09-19T19:50:10.495033Z",
     "start_time": "2022-09-19T19:50:10.480072Z"
    }
   },
   "outputs": [],
   "source": [
    "strat_test_set[\"renda_mediana_cat\"].value_counts() / len(strat_test_set)"
   ]
  },
  {
   "cell_type": "code",
   "execution_count": null,
   "id": "c5a63622",
   "metadata": {
    "ExecuteTime": {
     "end_time": "2022-09-19T19:50:11.661986Z",
     "start_time": "2022-09-19T19:50:11.638041Z"
    }
   },
   "outputs": [],
   "source": [
    "strat_train_set[\"renda_mediana_cat\"].value_counts() / len(strat_train_set)"
   ]
  },
  {
   "cell_type": "code",
   "execution_count": null,
   "id": "a6d2117b",
   "metadata": {
    "ExecuteTime": {
     "end_time": "2022-09-19T19:50:13.563908Z",
     "start_time": "2022-09-19T19:50:13.541981Z"
    }
   },
   "outputs": [],
   "source": [
    "# Funçao para comparar as proporções\n",
    "\n",
    "\n",
    "def income_cat_proportions(data):\n",
    "    return data[\"renda_mediana_cat\"].value_counts() / len(data)\n",
    "\n",
    "\n",
    "train_set, test_set = train_test_split(housing, test_size=0.2, random_state=42)\n",
    "\n",
    "compare_props = pd.DataFrame({\"Overall\": income_cat_proportions(housing),\n",
    "                              \"Stratified\": income_cat_proportions(strat_test_set),\n",
    "                              \"Random\": income_cat_proportions(test_set), }).sort_index()\n",
    "compare_props[\"Rand. %error\"] = 100 * compare_props[\"Random\"] / compare_props[\"Overall\"] - 100\n",
    "compare_props[\"Strat. %error\"] = 100 * compare_props[\"Stratified\"] / compare_props[\"Overall\"] - 100"
   ]
  },
  {
   "cell_type": "code",
   "execution_count": null,
   "id": "31c9ba39",
   "metadata": {
    "ExecuteTime": {
     "end_time": "2022-09-19T19:50:14.973658Z",
     "start_time": "2022-09-19T19:50:14.957674Z"
    }
   },
   "outputs": [],
   "source": [
    "'''\n",
    "Comparando a proporção do conjunto completo, aleátorio eo estratificado\n",
    "de acordo com as categorias de renda mediana\n",
    "'''\n",
    "compare_props"
   ]
  },
  {
   "cell_type": "code",
   "execution_count": null,
   "id": "02781d92",
   "metadata": {
    "ExecuteTime": {
     "end_time": "2022-09-19T19:50:46.742212Z",
     "start_time": "2022-09-19T19:50:46.734233Z"
    }
   },
   "outputs": [],
   "source": [
    "'''\n",
    "Após ter gerado o conjunto de treino e teste estratificado\n",
    "vamos remover a variável criada para separar por categoria\n",
    "\n",
    "'''\n",
    "\n",
    "for set_ in (strat_train_set, strat_test_set):\n",
    "    set_.drop(\"renda_mediana_cat\", axis=1, inplace=True)"
   ]
  },
  {
   "cell_type": "code",
   "execution_count": null,
   "id": "ba4d5b33",
   "metadata": {
    "ExecuteTime": {
     "end_time": "2022-09-19T19:50:47.843769Z",
     "start_time": "2022-09-19T19:50:47.838761Z"
    }
   },
   "outputs": [],
   "source": [
    "housing = strat_train_set.copy()"
   ]
  },
  {
   "cell_type": "markdown",
   "id": "bba76a5c",
   "metadata": {},
   "source": [
    "#  EDA"
   ]
  },
  {
   "cell_type": "code",
   "execution_count": null,
   "id": "2062cb4b",
   "metadata": {
    "ExecuteTime": {
     "end_time": "2022-09-19T19:50:51.092656Z",
     "start_time": "2022-09-19T19:50:50.895842Z"
    }
   },
   "outputs": [],
   "source": [
    "housing.plot(kind=\"scatter\", x=\"longitude\", y=\"latitude\", figsize=(7,5), alpha=0.1);\n"
   ]
  },
  {
   "cell_type": "code",
   "execution_count": null,
   "id": "07978ed1",
   "metadata": {
    "ExecuteTime": {
     "end_time": "2022-09-19T19:50:57.360364Z",
     "start_time": "2022-09-19T19:50:56.606966Z"
    }
   },
   "outputs": [],
   "source": [
    "'''\n",
    "Valor médio das casas em todo território\n",
    "'''\n",
    "\n",
    "housing.plot(kind=\"scatter\", x=\"longitude\", y=\"latitude\", alpha=0.4,\n",
    "             s=housing[\"populacao\"]/100, label=\"População\", figsize=(10,7),\n",
    "             c=\"valor_medio_casa\", cmap=plt.get_cmap(\"jet\"), colorbar=True,)\n",
    "plt.legend()"
   ]
  },
  {
   "cell_type": "code",
   "execution_count": null,
   "id": "1b820480",
   "metadata": {
    "ExecuteTime": {
     "end_time": "2022-09-19T19:53:42.329628Z",
     "start_time": "2022-09-19T19:53:42.310691Z"
    }
   },
   "outputs": [],
   "source": [
    "housing.corr()"
   ]
  },
  {
   "cell_type": "code",
   "execution_count": null,
   "id": "c6066b3e",
   "metadata": {
    "ExecuteTime": {
     "end_time": "2022-09-19T19:54:28.369961Z",
     "start_time": "2022-09-19T19:54:28.351009Z"
    }
   },
   "outputs": [],
   "source": [
    "corr_matrix = housing.corr()\n",
    "corr_matrix[\"valor_medio_casa\"].sort_values(ascending=False)"
   ]
  },
  {
   "cell_type": "code",
   "execution_count": null,
   "id": "3d772611",
   "metadata": {
    "ExecuteTime": {
     "end_time": "2022-09-19T19:51:45.026175Z",
     "start_time": "2022-09-19T19:51:42.825067Z"
    }
   },
   "outputs": [],
   "source": [
    "#scatter_matrix(housing, figsize=(10,12));\n",
    "attributes = [\"valor_medio_casa\", \"renda_mediana\", \"total_salas\",\"idade_mediana\"]\n",
    "scatter_matrix(housing[attributes], figsize=(12, 8));\n"
   ]
  },
  {
   "cell_type": "code",
   "execution_count": null,
   "id": "15573d35",
   "metadata": {
    "ExecuteTime": {
     "end_time": "2022-09-19T20:43:53.123630Z",
     "start_time": "2022-09-19T20:43:52.876903Z"
    },
    "scrolled": true
   },
   "outputs": [],
   "source": [
    "housing.plot(kind=\"scatter\", x=\"renda_mediana\", y=\"valor_medio_casa\",alpha=0.1);"
   ]
  },
  {
   "cell_type": "code",
   "execution_count": null,
   "id": "c1518653",
   "metadata": {
    "ExecuteTime": {
     "end_time": "2022-09-19T20:50:29.678116Z",
     "start_time": "2022-09-19T20:50:29.670139Z"
    }
   },
   "outputs": [],
   "source": [
    "housing[\"quarto/familia\"] = housing[\"total_salas\"]/housing[\"familias\"]\n",
    "housing[\"quarto/sala\"] = housing[\"total_quartos\"]/housing[\"total_salas\"]\n",
    "housing[\"populacao/familia\"]=housing[\"populacao\"]/housing[\"familias\"]"
   ]
  },
  {
   "cell_type": "code",
   "execution_count": null,
   "id": "7517f9b2",
   "metadata": {
    "ExecuteTime": {
     "end_time": "2022-09-19T20:50:30.137951Z",
     "start_time": "2022-09-19T20:50:30.119968Z"
    },
    "scrolled": false
   },
   "outputs": [],
   "source": [
    "corr_matrix = housing.corr()\n",
    "corr_matrix[\"valor_medio_casa\"].sort_values(ascending=False)"
   ]
  },
  {
   "cell_type": "code",
   "execution_count": null,
   "id": "26ace98f",
   "metadata": {
    "ExecuteTime": {
     "end_time": "2022-09-19T20:50:31.213542Z",
     "start_time": "2022-09-19T20:50:31.206540Z"
    }
   },
   "outputs": [],
   "source": [
    "housing = strat_train_set.drop(\"valor_medio_casa\", axis=1)\n",
    "housing_labels = strat_train_set[\"valor_medio_casa\"].copy()"
   ]
  },
  {
   "cell_type": "code",
   "execution_count": null,
   "id": "a64c7d10",
   "metadata": {
    "ExecuteTime": {
     "end_time": "2022-09-19T20:50:36.557872Z",
     "start_time": "2022-09-19T20:50:36.517964Z"
    }
   },
   "outputs": [],
   "source": [
    "imputer = SimpleImputer(strategy=\"median\")\n",
    "housing_num = housing.drop(\"litoral\", axis=1)\n",
    "imputer.fit(housing_num)"
   ]
  },
  {
   "cell_type": "code",
   "execution_count": null,
   "id": "1ed16370",
   "metadata": {
    "ExecuteTime": {
     "end_time": "2022-09-19T20:50:38.962413Z",
     "start_time": "2022-09-19T20:50:38.943449Z"
    }
   },
   "outputs": [],
   "source": [
    "housing_num"
   ]
  },
  {
   "cell_type": "code",
   "execution_count": null,
   "id": "2241eb0e",
   "metadata": {
    "ExecuteTime": {
     "end_time": "2022-09-19T20:50:39.384493Z",
     "start_time": "2022-09-19T20:50:39.373498Z"
    }
   },
   "outputs": [],
   "source": [
    "imputer.statistics_\n",
    "housing_num.median().values"
   ]
  },
  {
   "cell_type": "code",
   "execution_count": null,
   "id": "8a651914",
   "metadata": {},
   "outputs": [],
   "source": []
  }
 ],
 "metadata": {
  "kernelspec": {
   "display_name": "Python 3 (ipykernel)",
   "language": "python",
   "name": "python3"
  },
  "language_info": {
   "codemirror_mode": {
    "name": "ipython",
    "version": 3
   },
   "file_extension": ".py",
   "mimetype": "text/x-python",
   "name": "python",
   "nbconvert_exporter": "python",
   "pygments_lexer": "ipython3",
   "version": "3.10.7"
  },
  "toc": {
   "base_numbering": 1,
   "nav_menu": {},
   "number_sections": true,
   "sideBar": true,
   "skip_h1_title": false,
   "title_cell": "Table of Contents",
   "title_sidebar": "Contents",
   "toc_cell": false,
   "toc_position": {},
   "toc_section_display": true,
   "toc_window_display": false
  },
  "varInspector": {
   "cols": {
    "lenName": 16,
    "lenType": 16,
    "lenVar": 40
   },
   "kernels_config": {
    "python": {
     "delete_cmd_postfix": "",
     "delete_cmd_prefix": "del ",
     "library": "var_list.py",
     "varRefreshCmd": "print(var_dic_list())"
    },
    "r": {
     "delete_cmd_postfix": ") ",
     "delete_cmd_prefix": "rm(",
     "library": "var_list.r",
     "varRefreshCmd": "cat(var_dic_list()) "
    }
   },
   "oldHeight": 374.833,
   "position": {
    "height": "396.815px",
    "left": "1152.68px",
    "right": "20px",
    "top": "9.96394px",
    "width": "326.875px"
   },
   "types_to_exclude": [
    "module",
    "function",
    "builtin_function_or_method",
    "instance",
    "_Feature"
   ],
   "varInspector_section_display": "block",
   "window_display": false
  }
 },
 "nbformat": 4,
 "nbformat_minor": 5
}
