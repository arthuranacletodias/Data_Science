{
 "cells": [
  {
   "cell_type": "code",
   "execution_count": 1,
   "metadata": {
    "ExecuteTime": {
     "end_time": "2022-11-10T00:09:16.440492Z",
     "start_time": "2022-11-10T00:09:13.506255Z"
    }
   },
   "outputs": [],
   "source": [
    "# Importando as bibliotecas\n",
    "import pandas as pd\n",
    "import numpy as np\n",
    "import matplotlib.pyplot as plt\n",
    "import seaborn as sns\n",
    "from sklearn.model_selection import train_test_split\n",
    "from sklearn.linear_model import LinearRegression\n",
    "from sklearn.metrics import r2_score\n",
    "from sklearn.metrics import mean_absolute_error, mean_squared_error, mean_absolute_percentage_error\n",
    "from sklearn.preprocessing import MinMaxScaler\n"
   ]
  },
  {
   "cell_type": "code",
   "execution_count": 2,
   "metadata": {
    "ExecuteTime": {
     "end_time": "2022-11-10T00:09:16.475683Z",
     "start_time": "2022-11-10T00:09:16.441735Z"
    }
   },
   "outputs": [],
   "source": [
    "# Lendo a base da dados\n",
    "df = pd.read_csv('../datasets/house_prices.csv')"
   ]
  },
  {
   "cell_type": "code",
   "execution_count": 3,
   "metadata": {
    "ExecuteTime": {
     "end_time": "2022-11-10T00:09:16.491219Z",
     "start_time": "2022-11-10T00:09:16.475683Z"
    }
   },
   "outputs": [],
   "source": [
    "# Separando o target\n",
    "X = df.drop(columns=[\"Id\", \"SalePrice\"])\n",
    "y = df[\"SalePrice\"]"
   ]
  },
  {
   "cell_type": "code",
   "execution_count": 4,
   "metadata": {
    "ExecuteTime": {
     "end_time": "2022-11-10T00:09:16.506961Z",
     "start_time": "2022-11-10T00:09:16.494180Z"
    }
   },
   "outputs": [],
   "source": [
    "# Dividindo o dataframe em treino e teste para o target e as features\n",
    "X_train, X_test, y_train, y_test = train_test_split(X, y, test_size=0.2, random_state=42)"
   ]
  },
  {
   "cell_type": "code",
   "execution_count": 5,
   "metadata": {
    "ExecuteTime": {
     "end_time": "2022-11-10T00:09:16.538626Z",
     "start_time": "2022-11-10T00:09:16.508926Z"
    }
   },
   "outputs": [
    {
     "data": {
      "text/plain": [
       "LotFrontage    217\n",
       "MasVnrArea       6\n",
       "GarageYrBlt     64\n",
       "dtype: int64"
      ]
     },
     "execution_count": 5,
     "metadata": {},
     "output_type": "execute_result"
    }
   ],
   "source": [
    "# nulos treino\n",
    "nulos_train = X_train.select_dtypes(include=np.number).isnull().sum()\n",
    "\n",
    "nulos_train[nulos_train > 0]"
   ]
  },
  {
   "cell_type": "code",
   "execution_count": 6,
   "metadata": {
    "ExecuteTime": {
     "end_time": "2022-11-10T00:09:16.554168Z",
     "start_time": "2022-11-10T00:09:16.540668Z"
    }
   },
   "outputs": [
    {
     "data": {
      "text/plain": [
       "LotFrontage    42\n",
       "MasVnrArea      2\n",
       "GarageYrBlt    17\n",
       "dtype: int64"
      ]
     },
     "execution_count": 6,
     "metadata": {},
     "output_type": "execute_result"
    }
   ],
   "source": [
    "# nulos teste\n",
    "nulos_teste = X_test.select_dtypes(include=np.number).isnull().sum()\n",
    "\n",
    "nulos_teste[nulos_teste > 0]"
   ]
  },
  {
   "cell_type": "code",
   "execution_count": 7,
   "metadata": {
    "ExecuteTime": {
     "end_time": "2022-11-10T00:09:16.569796Z",
     "start_time": "2022-11-10T00:09:16.555207Z"
    }
   },
   "outputs": [],
   "source": [
    "# Utilizando somente dados numéricos e sem nulos\n",
    "X_train_model = X_train.select_dtypes(include=np.number).dropna(axis=\"columns\")\n",
    "\n",
    "# usando o .loc no final, pra garantir que pegamos exatamente as mesmas features\n",
    "X_test_model = X_test.loc[:, X_train_model.columns]"
   ]
  },
  {
   "cell_type": "code",
   "execution_count": 8,
   "metadata": {
    "ExecuteTime": {
     "end_time": "2022-11-10T00:09:16.585417Z",
     "start_time": "2022-11-10T00:09:16.570757Z"
    }
   },
   "outputs": [
    {
     "data": {
      "text/plain": [
       "((1168, 33), (292, 33))"
      ]
     },
     "execution_count": 8,
     "metadata": {},
     "output_type": "execute_result"
    }
   ],
   "source": [
    "# Garantindo que dados de treino e teste tenham a mesma dimensão e sem dados nulos\n",
    "assert (X_train_model.shape[1] == X_test_model.shape[1])\n",
    "assert (X_test_model.isnull().sum().sum() == 0)\n",
    "\n",
    "X_train_model.shape, X_test_model.shape"
   ]
  },
  {
   "cell_type": "code",
   "execution_count": 9,
   "metadata": {
    "ExecuteTime": {
     "end_time": "2022-11-10T00:09:16.600581Z",
     "start_time": "2022-11-10T00:09:16.587474Z"
    }
   },
   "outputs": [],
   "source": [
    "# Calculando o r² ajustado\n",
    "def calc_r2_adj(r2, y, X):\n",
    "\n",
    "    return 1 - (1-r2)*(len(y) - 1)/(len(y) - X.shape[1] - 1)"
   ]
  },
  {
   "cell_type": "code",
   "execution_count": 10,
   "metadata": {
    "ExecuteTime": {
     "end_time": "2022-11-10T00:09:16.616120Z",
     "start_time": "2022-11-10T00:09:16.606532Z"
    }
   },
   "outputs": [],
   "source": [
    "# Função para plot do real x predito no teste\n",
    "def plot_scatter_real_pred(y_test, y_pred):\n",
    "\n",
    "    x = np.linspace(0, y_test.max())\n",
    "    y = x\n",
    "\n",
    "    plt.title(\"Target real x target predito\")\n",
    "\n",
    "    plt.plot(x, y, color=\"red\", ls=\":\")\n",
    "\n",
    "    sns.scatterplot(x=y_test, y=y_pred)\n",
    "\n",
    "    plt.xlabel(\"Real\")\n",
    "    plt.ylabel(\"Predito\")\n",
    "\n",
    "    plt.show()"
   ]
  },
  {
   "cell_type": "code",
   "execution_count": 11,
   "metadata": {
    "ExecuteTime": {
     "end_time": "2022-11-10T00:09:16.631624Z",
     "start_time": "2022-11-10T00:09:16.619624Z"
    }
   },
   "outputs": [],
   "source": [
    "# Função para construção e avaliação do modelo\n",
    "def reg_lin_pt1_pt2(X_train, y_train, X_test, y_test, plot=True):\n",
    "\n",
    "    # ===============================\n",
    "    # passo 1 - construção do modelo\n",
    "\n",
    "    reglin = LinearRegression()\n",
    "\n",
    "    reglin.fit(X_train, y_train)\n",
    "\n",
    "    # ===============================\n",
    "    # passo 2 - avaliação do modelo\n",
    "\n",
    "    y_pred = reglin.predict(X_test)\n",
    "\n",
    "    print(\"\\nMétricas de avaliação (dados de teste):\\n\")\n",
    "\n",
    "    if plot:\n",
    "        plot_scatter_real_pred(y_test, y_pred)\n",
    "\n",
    "    r2 = r2_score(y_test, y_pred)\n",
    "    r2_adj = calc_r2_adj(r2, y_test, X_test)\n",
    "\n",
    "    print(f\"R^2: {r2:.2f} | Adj R^2: {r2_adj:.2f}\")\n",
    "    print(f\"MAE: {mean_absolute_error(y_test, y_pred):.2f}\")\n",
    "    print(f\"RMSE: {np.sqrt(mean_squared_error(y_test, y_pred)):.2f}\")\n",
    "    print(f\"MAPE: {(mean_absolute_percentage_error(y_test, y_pred))*100:.2f}%\")\n",
    "\n",
    "    residuos = y_test - y_pred\n",
    "    print(\"\\nDistribuição dos resíduos:\\n\")\n",
    "    print(residuos.describe())\n",
    "\n",
    "    if plot:\n",
    "        sns.histplot(residuos, kde=True)\n",
    "        plt.show()\n",
    "\n",
    "    # new: returnando o objeto do modelo treinado!\n",
    "    return reglin"
   ]
  },
  {
   "cell_type": "code",
   "execution_count": 12,
   "metadata": {
    "ExecuteTime": {
     "end_time": "2022-11-10T00:09:17.042013Z",
     "start_time": "2022-11-10T00:09:16.636172Z"
    }
   },
   "outputs": [
    {
     "name": "stdout",
     "output_type": "stream",
     "text": [
      "\n",
      "Métricas de avaliação (dados de teste):\n",
      "\n"
     ]
    },
    {
     "data": {
      "image/png": "[encoded data removed]",
      "text/plain": [
       "<Figure size 432x288 with 1 Axes>"
      ]
     },
     "metadata": {
      "needs_background": "light"
     },
     "output_type": "display_data"
    },
    {
     "name": "stdout",
     "output_type": "stream",
     "text": [
      "R^2: 0.55 | Adj R^2: 0.55\n",
      "MAE: 38341.20\n",
      "RMSE: 58471.76\n",
      "MAPE: 23.34%\n",
      "\n",
      "Distribuição dos resíduos:\n",
      "\n",
      "count       292.000000\n",
      "mean       3515.754922\n",
      "std       58466.163367\n",
      "min     -149347.637583\n",
      "25%      -30951.653433\n",
      "50%       -2718.855323\n",
      "75%       21621.209371\n",
      "max      344473.352964\n",
      "Name: SalePrice, dtype: float64\n"
     ]
    },
    {
     "data": {
      "image/png": "[encoded data removed]",
      "text/plain": [
       "<Figure size 432x288 with 1 Axes>"
      ]
     },
     "metadata": {
      "needs_background": "light"
     },
     "output_type": "display_data"
    }
   ],
   "source": [
    "# Treinando e avaliando o modelo de forma automatizada - reg. simples\n",
    "reglin_simples = reg_lin_pt1_pt2(X_train_model[\"GrLivArea\"].values.reshape(-1, 1), y_train,\n",
    "                                 X_test_model[\"GrLivArea\"].values.reshape(-1, 1), y_test,\n",
    "                                 plot=True)"
   ]
  },
  {
   "cell_type": "code",
   "execution_count": 13,
   "metadata": {
    "ExecuteTime": {
     "end_time": "2022-11-10T00:09:17.489987Z",
     "start_time": "2022-11-10T00:09:17.042529Z"
    }
   },
   "outputs": [
    {
     "name": "stdout",
     "output_type": "stream",
     "text": [
      "\n",
      "Métricas de avaliação (dados de teste):\n",
      "\n"
     ]
    },
    {
     "data": {
      "image/png": "[encoded data removed]",
      "text/plain": [
       "<Figure size 432x288 with 1 Axes>"
      ]
     },
     "metadata": {
      "needs_background": "light"
     },
     "output_type": "display_data"
    },
    {
     "name": "stdout",
     "output_type": "stream",
     "text": [
      "R^2: 0.82 | Adj R^2: 0.80\n",
      "MAE: 22938.25\n",
      "RMSE: 37312.27\n",
      "MAPE: 13.45%\n",
      "\n",
      "Distribuição dos resíduos:\n",
      "\n",
      "count       292.000000\n",
      "mean       3906.261898\n",
      "std       37170.936225\n",
      "min      -72360.843025\n",
      "25%      -16250.719394\n",
      "50%         862.782726\n",
      "75%       16069.854162\n",
      "max      306279.161692\n",
      "Name: SalePrice, dtype: float64\n"
     ]
    },
    {
     "data": {
      "image/png": "[encoded data removed]",
      "text/plain": [
       "<Figure size 432x288 with 1 Axes>"
      ]
     },
     "metadata": {
      "needs_background": "light"
     },
     "output_type": "display_data"
    }
   ],
   "source": [
    "# Treinando e avaliando o modelo de forma automatizada - reg. multipla\n",
    "reglin_multi = reg_lin_pt1_pt2(X_train_model, y_train,\n",
    "                                 X_test_model, y_test,\n",
    "                                 plot=True)"
   ]
  },
  {
   "cell_type": "code",
   "execution_count": 14,
   "metadata": {
    "ExecuteTime": {
     "end_time": "2022-11-10T00:09:17.507373Z",
     "start_time": "2022-11-10T00:09:17.489987Z"
    }
   },
   "outputs": [
    {
     "data": {
      "text/plain": [
       "{'fit_intercept': True,\n",
       " 'normalize': 'deprecated',\n",
       " 'copy_X': True,\n",
       " 'n_jobs': None,\n",
       " 'positive': False,\n",
       " 'n_features_in_': 1,\n",
       " 'coef_': array([102.48895892]),\n",
       " '_residues': 3595239550906.284,\n",
       " 'rank_': 1,\n",
       " 'singular_': array([17915.34517326]),\n",
       " 'intercept_': 24899.74815733818}"
      ]
     },
     "execution_count": 14,
     "metadata": {},
     "output_type": "execute_result"
    }
   ],
   "source": [
    "# Atributos da regressão linear simples\n",
    "vars(reglin_simples)"
   ]
  },
  {
   "cell_type": "code",
   "execution_count": 15,
   "metadata": {
    "ExecuteTime": {
     "end_time": "2022-11-10T00:09:17.523449Z",
     "start_time": "2022-11-10T00:09:17.507373Z"
    }
   },
   "outputs": [
    {
     "data": {
      "text/plain": [
       "{'fit_intercept': True,\n",
       " 'normalize': 'deprecated',\n",
       " 'copy_X': True,\n",
       " 'n_jobs': None,\n",
       " 'positive': False,\n",
       " 'feature_names_in_': array(['MSSubClass', 'LotArea', 'OverallQual', 'OverallCond', 'YearBuilt',\n",
       "        'YearRemodAdd', 'BsmtFinSF1', 'BsmtFinSF2', 'BsmtUnfSF',\n",
       "        'TotalBsmtSF', '1stFlrSF', '2ndFlrSF', 'LowQualFinSF', 'GrLivArea',\n",
       "        'BsmtFullBath', 'BsmtHalfBath', 'FullBath', 'HalfBath',\n",
       "        'BedroomAbvGr', 'KitchenAbvGr', 'TotRmsAbvGrd', 'Fireplaces',\n",
       "        'GarageCars', 'GarageArea', 'WoodDeckSF', 'OpenPorchSF',\n",
       "        'EnclosedPorch', '3SsnPorch', 'ScreenPorch', 'PoolArea', 'MiscVal',\n",
       "        'MoSold', 'YrSold'], dtype=object),\n",
       " 'n_features_in_': 33,\n",
       " 'coef_': array([-1.75548690e+02,  4.09174234e-01,  1.84955503e+04,  3.83573710e+03,\n",
       "         3.37312908e+02,  1.80209917e+02,  1.00461555e+01, -4.61607099e+00,\n",
       "         3.82786747e-01,  5.81287122e+00,  1.31240039e+01,  1.42134340e+01,\n",
       "         4.50422890e+00,  3.18416668e+01,  1.10492803e+04, -3.26518493e+02,\n",
       "         3.42606130e+03, -1.66531509e+03, -9.08810085e+03, -1.00971990e+04,\n",
       "         5.10100134e+03,  4.37021557e+03,  1.16074917e+04,  5.58607730e-01,\n",
       "         2.55639049e+01, -6.62562003e+00,  7.06908781e+00,  3.85262374e+01,\n",
       "         6.55989735e+01, -3.73443286e+01, -7.15692563e-01, -2.09433750e+02,\n",
       "        -5.14524004e+02]),\n",
       " '_residues': array([], dtype=float64),\n",
       " 'rank_': 31,\n",
       " 'singular_': array([3.67650843e+05, 2.39975617e+04, 2.01853415e+04, 1.89128138e+04,\n",
       "        1.81868962e+04, 7.56023278e+03, 5.86367582e+03, 5.80895128e+03,\n",
       "        4.17930879e+03, 2.29720065e+03, 2.04383973e+03, 1.89262209e+03,\n",
       "        1.79843297e+03, 1.35867882e+03, 1.33268727e+03, 1.06364664e+03,\n",
       "        8.52627236e+02, 4.97661293e+02, 9.07153974e+01, 4.41333005e+01,\n",
       "        3.40173675e+01, 3.20814722e+01, 2.72897707e+01, 1.81471102e+01,\n",
       "        1.65578167e+01, 1.44124119e+01, 1.29168259e+01, 1.10700722e+01,\n",
       "        9.53932852e+00, 7.28020198e+00, 5.93925594e+00, 3.99587723e-11,\n",
       "        3.99587723e-11]),\n",
       " 'intercept_': -48411.54387296809}"
      ]
     },
     "execution_count": 15,
     "metadata": {},
     "output_type": "execute_result"
    }
   ],
   "source": [
    "# Atributos da regressão linear multipla\n",
    "vars(reglin_multi)"
   ]
  },
  {
   "cell_type": "code",
   "execution_count": 16,
   "metadata": {
    "ExecuteTime": {
     "end_time": "2022-11-10T00:09:17.554535Z",
     "start_time": "2022-11-10T00:09:17.525449Z"
    }
   },
   "outputs": [
    {
     "data": {
      "text/html": [
       "<div>\n",
       "<style scoped>\n",
       "    .dataframe tbody tr th:only-of-type {\n",
       "        vertical-align: middle;\n",
       "    }\n",
       "\n",
       "    .dataframe tbody tr th {\n",
       "        vertical-align: top;\n",
       "    }\n",
       "\n",
       "    .dataframe thead th {\n",
       "        text-align: right;\n",
       "    }\n",
       "</style>\n",
       "<table border=\"1\" class=\"dataframe\">\n",
       "  <thead>\n",
       "    <tr style=\"text-align: right;\">\n",
       "      <th></th>\n",
       "      <th>param_value</th>\n",
       "    </tr>\n",
       "  </thead>\n",
       "  <tbody>\n",
       "    <tr>\n",
       "      <th>MSSubClass</th>\n",
       "      <td>-175.548690</td>\n",
       "    </tr>\n",
       "    <tr>\n",
       "      <th>LotArea</th>\n",
       "      <td>0.409174</td>\n",
       "    </tr>\n",
       "    <tr>\n",
       "      <th>OverallQual</th>\n",
       "      <td>18495.550309</td>\n",
       "    </tr>\n",
       "    <tr>\n",
       "      <th>OverallCond</th>\n",
       "      <td>3835.737095</td>\n",
       "    </tr>\n",
       "    <tr>\n",
       "      <th>YearBuilt</th>\n",
       "      <td>337.312908</td>\n",
       "    </tr>\n",
       "    <tr>\n",
       "      <th>YearRemodAdd</th>\n",
       "      <td>180.209917</td>\n",
       "    </tr>\n",
       "    <tr>\n",
       "      <th>BsmtFinSF1</th>\n",
       "      <td>10.046155</td>\n",
       "    </tr>\n",
       "    <tr>\n",
       "      <th>BsmtFinSF2</th>\n",
       "      <td>-4.616071</td>\n",
       "    </tr>\n",
       "    <tr>\n",
       "      <th>BsmtUnfSF</th>\n",
       "      <td>0.382787</td>\n",
       "    </tr>\n",
       "    <tr>\n",
       "      <th>TotalBsmtSF</th>\n",
       "      <td>5.812871</td>\n",
       "    </tr>\n",
       "    <tr>\n",
       "      <th>1stFlrSF</th>\n",
       "      <td>13.124004</td>\n",
       "    </tr>\n",
       "    <tr>\n",
       "      <th>2ndFlrSF</th>\n",
       "      <td>14.213434</td>\n",
       "    </tr>\n",
       "    <tr>\n",
       "      <th>LowQualFinSF</th>\n",
       "      <td>4.504229</td>\n",
       "    </tr>\n",
       "    <tr>\n",
       "      <th>GrLivArea</th>\n",
       "      <td>31.841667</td>\n",
       "    </tr>\n",
       "    <tr>\n",
       "      <th>BsmtFullBath</th>\n",
       "      <td>11049.280317</td>\n",
       "    </tr>\n",
       "    <tr>\n",
       "      <th>BsmtHalfBath</th>\n",
       "      <td>-326.518493</td>\n",
       "    </tr>\n",
       "    <tr>\n",
       "      <th>FullBath</th>\n",
       "      <td>3426.061299</td>\n",
       "    </tr>\n",
       "    <tr>\n",
       "      <th>HalfBath</th>\n",
       "      <td>-1665.315093</td>\n",
       "    </tr>\n",
       "    <tr>\n",
       "      <th>BedroomAbvGr</th>\n",
       "      <td>-9088.100847</td>\n",
       "    </tr>\n",
       "    <tr>\n",
       "      <th>KitchenAbvGr</th>\n",
       "      <td>-10097.199042</td>\n",
       "    </tr>\n",
       "    <tr>\n",
       "      <th>TotRmsAbvGrd</th>\n",
       "      <td>5101.001335</td>\n",
       "    </tr>\n",
       "    <tr>\n",
       "      <th>Fireplaces</th>\n",
       "      <td>4370.215572</td>\n",
       "    </tr>\n",
       "    <tr>\n",
       "      <th>GarageCars</th>\n",
       "      <td>11607.491716</td>\n",
       "    </tr>\n",
       "    <tr>\n",
       "      <th>GarageArea</th>\n",
       "      <td>0.558608</td>\n",
       "    </tr>\n",
       "    <tr>\n",
       "      <th>WoodDeckSF</th>\n",
       "      <td>25.563905</td>\n",
       "    </tr>\n",
       "    <tr>\n",
       "      <th>OpenPorchSF</th>\n",
       "      <td>-6.625620</td>\n",
       "    </tr>\n",
       "    <tr>\n",
       "      <th>EnclosedPorch</th>\n",
       "      <td>7.069088</td>\n",
       "    </tr>\n",
       "    <tr>\n",
       "      <th>3SsnPorch</th>\n",
       "      <td>38.526237</td>\n",
       "    </tr>\n",
       "    <tr>\n",
       "      <th>ScreenPorch</th>\n",
       "      <td>65.598974</td>\n",
       "    </tr>\n",
       "    <tr>\n",
       "      <th>PoolArea</th>\n",
       "      <td>-37.344329</td>\n",
       "    </tr>\n",
       "    <tr>\n",
       "      <th>MiscVal</th>\n",
       "      <td>-0.715693</td>\n",
       "    </tr>\n",
       "    <tr>\n",
       "      <th>MoSold</th>\n",
       "      <td>-209.433750</td>\n",
       "    </tr>\n",
       "    <tr>\n",
       "      <th>YrSold</th>\n",
       "      <td>-514.524004</td>\n",
       "    </tr>\n",
       "  </tbody>\n",
       "</table>\n",
       "</div>"
      ],
      "text/plain": [
       "                param_value\n",
       "MSSubClass      -175.548690\n",
       "LotArea            0.409174\n",
       "OverallQual    18495.550309\n",
       "OverallCond     3835.737095\n",
       "YearBuilt        337.312908\n",
       "YearRemodAdd     180.209917\n",
       "BsmtFinSF1        10.046155\n",
       "BsmtFinSF2        -4.616071\n",
       "BsmtUnfSF          0.382787\n",
       "TotalBsmtSF        5.812871\n",
       "1stFlrSF          13.124004\n",
       "2ndFlrSF          14.213434\n",
       "LowQualFinSF       4.504229\n",
       "GrLivArea         31.841667\n",
       "BsmtFullBath   11049.280317\n",
       "BsmtHalfBath    -326.518493\n",
       "FullBath        3426.061299\n",
       "HalfBath       -1665.315093\n",
       "BedroomAbvGr   -9088.100847\n",
       "KitchenAbvGr  -10097.199042\n",
       "TotRmsAbvGrd    5101.001335\n",
       "Fireplaces      4370.215572\n",
       "GarageCars     11607.491716\n",
       "GarageArea         0.558608\n",
       "WoodDeckSF        25.563905\n",
       "OpenPorchSF       -6.625620\n",
       "EnclosedPorch      7.069088\n",
       "3SsnPorch         38.526237\n",
       "ScreenPorch       65.598974\n",
       "PoolArea         -37.344329\n",
       "MiscVal           -0.715693\n",
       "MoSold          -209.433750\n",
       "YrSold          -514.524004"
      ]
     },
     "execution_count": 16,
     "metadata": {},
     "output_type": "execute_result"
    }
   ],
   "source": [
    "# Dataframe com o coeficiente de cada feature\n",
    "params_df = pd.DataFrame(reglin_multi.coef_, index=reglin_multi.feature_names_in_, columns=[\"param_value\"])\n",
    "\n",
    "params_df"
   ]
  },
  {
   "cell_type": "code",
   "execution_count": 17,
   "metadata": {
    "ExecuteTime": {
     "end_time": "2022-11-10T00:09:17.664398Z",
     "start_time": "2022-11-10T00:09:17.556495Z"
    }
   },
   "outputs": [
    {
     "data": {
      "text/html": [
       "<div>\n",
       "<style scoped>\n",
       "    .dataframe tbody tr th:only-of-type {\n",
       "        vertical-align: middle;\n",
       "    }\n",
       "\n",
       "    .dataframe tbody tr th {\n",
       "        vertical-align: top;\n",
       "    }\n",
       "\n",
       "    .dataframe thead th {\n",
       "        text-align: right;\n",
       "    }\n",
       "</style>\n",
       "<table border=\"1\" class=\"dataframe\">\n",
       "  <thead>\n",
       "    <tr style=\"text-align: right;\">\n",
       "      <th></th>\n",
       "      <th>MSSubClass</th>\n",
       "      <th>LotArea</th>\n",
       "      <th>OverallQual</th>\n",
       "      <th>OverallCond</th>\n",
       "      <th>YearBuilt</th>\n",
       "      <th>YearRemodAdd</th>\n",
       "      <th>BsmtFinSF1</th>\n",
       "      <th>BsmtFinSF2</th>\n",
       "      <th>BsmtUnfSF</th>\n",
       "      <th>TotalBsmtSF</th>\n",
       "      <th>...</th>\n",
       "      <th>GarageArea</th>\n",
       "      <th>WoodDeckSF</th>\n",
       "      <th>OpenPorchSF</th>\n",
       "      <th>EnclosedPorch</th>\n",
       "      <th>3SsnPorch</th>\n",
       "      <th>ScreenPorch</th>\n",
       "      <th>PoolArea</th>\n",
       "      <th>MiscVal</th>\n",
       "      <th>MoSold</th>\n",
       "      <th>YrSold</th>\n",
       "    </tr>\n",
       "  </thead>\n",
       "  <tbody>\n",
       "    <tr>\n",
       "      <th>min</th>\n",
       "      <td>20.0</td>\n",
       "      <td>1300.0</td>\n",
       "      <td>1.0</td>\n",
       "      <td>1.0</td>\n",
       "      <td>1872.0</td>\n",
       "      <td>1950.0</td>\n",
       "      <td>0.0</td>\n",
       "      <td>0.0</td>\n",
       "      <td>0.0</td>\n",
       "      <td>0.0</td>\n",
       "      <td>...</td>\n",
       "      <td>0.0</td>\n",
       "      <td>0.0</td>\n",
       "      <td>0.0</td>\n",
       "      <td>0.0</td>\n",
       "      <td>0.0</td>\n",
       "      <td>0.0</td>\n",
       "      <td>0.0</td>\n",
       "      <td>0.0</td>\n",
       "      <td>1.0</td>\n",
       "      <td>2006.0</td>\n",
       "    </tr>\n",
       "    <tr>\n",
       "      <th>max</th>\n",
       "      <td>190.0</td>\n",
       "      <td>215245.0</td>\n",
       "      <td>10.0</td>\n",
       "      <td>9.0</td>\n",
       "      <td>2010.0</td>\n",
       "      <td>2010.0</td>\n",
       "      <td>5644.0</td>\n",
       "      <td>1127.0</td>\n",
       "      <td>2336.0</td>\n",
       "      <td>6110.0</td>\n",
       "      <td>...</td>\n",
       "      <td>1418.0</td>\n",
       "      <td>857.0</td>\n",
       "      <td>547.0</td>\n",
       "      <td>552.0</td>\n",
       "      <td>508.0</td>\n",
       "      <td>480.0</td>\n",
       "      <td>738.0</td>\n",
       "      <td>15500.0</td>\n",
       "      <td>12.0</td>\n",
       "      <td>2010.0</td>\n",
       "    </tr>\n",
       "  </tbody>\n",
       "</table>\n",
       "<p>2 rows × 33 columns</p>\n",
       "</div>"
      ],
      "text/plain": [
       "     MSSubClass   LotArea  OverallQual  OverallCond  YearBuilt  YearRemodAdd  \\\n",
       "min        20.0    1300.0          1.0          1.0     1872.0        1950.0   \n",
       "max       190.0  215245.0         10.0          9.0     2010.0        2010.0   \n",
       "\n",
       "     BsmtFinSF1  BsmtFinSF2  BsmtUnfSF  TotalBsmtSF  ...  GarageArea  \\\n",
       "min         0.0         0.0        0.0          0.0  ...         0.0   \n",
       "max      5644.0      1127.0     2336.0       6110.0  ...      1418.0   \n",
       "\n",
       "     WoodDeckSF  OpenPorchSF  EnclosedPorch  3SsnPorch  ScreenPorch  PoolArea  \\\n",
       "min         0.0          0.0            0.0        0.0          0.0       0.0   \n",
       "max       857.0        547.0          552.0      508.0        480.0     738.0   \n",
       "\n",
       "     MiscVal  MoSold  YrSold  \n",
       "min      0.0     1.0  2006.0  \n",
       "max  15500.0    12.0  2010.0  \n",
       "\n",
       "[2 rows x 33 columns]"
      ]
     },
     "execution_count": 17,
     "metadata": {},
     "output_type": "execute_result"
    }
   ],
   "source": [
    "# Verificando escala das features\n",
    "X_train_model.describe().loc[[\"min\", \"max\"]]"
   ]
  },
  {
   "cell_type": "code",
   "execution_count": 18,
   "metadata": {
    "ExecuteTime": {
     "end_time": "2022-11-10T00:09:17.679934Z",
     "start_time": "2022-11-10T00:09:17.668918Z"
    }
   },
   "outputs": [],
   "source": [
    "# Colocando as features na mesma escala\n",
    "mms = MinMaxScaler().fit(X_train_model)\n",
    "\n",
    "X_train_model_mms = pd.DataFrame(mms.transform(X_train_model), columns=X_train_model.columns, index=X_train_model.index)\n",
    "X_test_model_mms = pd.DataFrame(mms.transform(X_test_model), columns=X_test_model.columns, index=X_test_model.index)"
   ]
  },
  {
   "cell_type": "code",
   "execution_count": 19,
   "metadata": {
    "ExecuteTime": {
     "end_time": "2022-11-10T00:09:17.821454Z",
     "start_time": "2022-11-10T00:09:17.683063Z"
    }
   },
   "outputs": [
    {
     "data": {
      "text/html": [
       "<div>\n",
       "<style scoped>\n",
       "    .dataframe tbody tr th:only-of-type {\n",
       "        vertical-align: middle;\n",
       "    }\n",
       "\n",
       "    .dataframe tbody tr th {\n",
       "        vertical-align: top;\n",
       "    }\n",
       "\n",
       "    .dataframe thead th {\n",
       "        text-align: right;\n",
       "    }\n",
       "</style>\n",
       "<table border=\"1\" class=\"dataframe\">\n",
       "  <thead>\n",
       "    <tr style=\"text-align: right;\">\n",
       "      <th></th>\n",
       "      <th>MSSubClass</th>\n",
       "      <th>LotArea</th>\n",
       "      <th>OverallQual</th>\n",
       "      <th>OverallCond</th>\n",
       "      <th>YearBuilt</th>\n",
       "      <th>YearRemodAdd</th>\n",
       "      <th>BsmtFinSF1</th>\n",
       "      <th>BsmtFinSF2</th>\n",
       "      <th>BsmtUnfSF</th>\n",
       "      <th>TotalBsmtSF</th>\n",
       "      <th>...</th>\n",
       "      <th>GarageArea</th>\n",
       "      <th>WoodDeckSF</th>\n",
       "      <th>OpenPorchSF</th>\n",
       "      <th>EnclosedPorch</th>\n",
       "      <th>3SsnPorch</th>\n",
       "      <th>ScreenPorch</th>\n",
       "      <th>PoolArea</th>\n",
       "      <th>MiscVal</th>\n",
       "      <th>MoSold</th>\n",
       "      <th>YrSold</th>\n",
       "    </tr>\n",
       "  </thead>\n",
       "  <tbody>\n",
       "    <tr>\n",
       "      <th>min</th>\n",
       "      <td>0.0</td>\n",
       "      <td>0.0</td>\n",
       "      <td>0.0</td>\n",
       "      <td>0.0</td>\n",
       "      <td>0.0</td>\n",
       "      <td>0.0</td>\n",
       "      <td>0.0</td>\n",
       "      <td>0.0</td>\n",
       "      <td>0.0</td>\n",
       "      <td>0.0</td>\n",
       "      <td>...</td>\n",
       "      <td>0.0</td>\n",
       "      <td>0.0</td>\n",
       "      <td>0.0</td>\n",
       "      <td>0.0</td>\n",
       "      <td>0.0</td>\n",
       "      <td>0.0</td>\n",
       "      <td>0.0</td>\n",
       "      <td>0.0</td>\n",
       "      <td>0.0</td>\n",
       "      <td>0.0</td>\n",
       "    </tr>\n",
       "    <tr>\n",
       "      <th>max</th>\n",
       "      <td>1.0</td>\n",
       "      <td>1.0</td>\n",
       "      <td>1.0</td>\n",
       "      <td>1.0</td>\n",
       "      <td>1.0</td>\n",
       "      <td>1.0</td>\n",
       "      <td>1.0</td>\n",
       "      <td>1.0</td>\n",
       "      <td>1.0</td>\n",
       "      <td>1.0</td>\n",
       "      <td>...</td>\n",
       "      <td>1.0</td>\n",
       "      <td>1.0</td>\n",
       "      <td>1.0</td>\n",
       "      <td>1.0</td>\n",
       "      <td>1.0</td>\n",
       "      <td>1.0</td>\n",
       "      <td>1.0</td>\n",
       "      <td>1.0</td>\n",
       "      <td>1.0</td>\n",
       "      <td>1.0</td>\n",
       "    </tr>\n",
       "  </tbody>\n",
       "</table>\n",
       "<p>2 rows × 33 columns</p>\n",
       "</div>"
      ],
      "text/plain": [
       "     MSSubClass  LotArea  OverallQual  OverallCond  YearBuilt  YearRemodAdd  \\\n",
       "min         0.0      0.0          0.0          0.0        0.0           0.0   \n",
       "max         1.0      1.0          1.0          1.0        1.0           1.0   \n",
       "\n",
       "     BsmtFinSF1  BsmtFinSF2  BsmtUnfSF  TotalBsmtSF  ...  GarageArea  \\\n",
       "min         0.0         0.0        0.0          0.0  ...         0.0   \n",
       "max         1.0         1.0        1.0          1.0  ...         1.0   \n",
       "\n",
       "     WoodDeckSF  OpenPorchSF  EnclosedPorch  3SsnPorch  ScreenPorch  PoolArea  \\\n",
       "min         0.0          0.0            0.0        0.0          0.0       0.0   \n",
       "max         1.0          1.0            1.0        1.0          1.0       1.0   \n",
       "\n",
       "     MiscVal  MoSold  YrSold  \n",
       "min      0.0     0.0     0.0  \n",
       "max      1.0     1.0     1.0  \n",
       "\n",
       "[2 rows x 33 columns]"
      ]
     },
     "execution_count": 19,
     "metadata": {},
     "output_type": "execute_result"
    }
   ],
   "source": [
    "# Verificando nova escala das features de treino após MinMaxScaler\n",
    "X_train_model_mms.describe().loc[['min', 'max']]"
   ]
  },
  {
   "cell_type": "code",
   "execution_count": 20,
   "metadata": {
    "ExecuteTime": {
     "end_time": "2022-11-10T00:09:17.942392Z",
     "start_time": "2022-11-10T00:09:17.823457Z"
    }
   },
   "outputs": [
    {
     "data": {
      "text/html": [
       "<div>\n",
       "<style scoped>\n",
       "    .dataframe tbody tr th:only-of-type {\n",
       "        vertical-align: middle;\n",
       "    }\n",
       "\n",
       "    .dataframe tbody tr th {\n",
       "        vertical-align: top;\n",
       "    }\n",
       "\n",
       "    .dataframe thead th {\n",
       "        text-align: right;\n",
       "    }\n",
       "</style>\n",
       "<table border=\"1\" class=\"dataframe\">\n",
       "  <thead>\n",
       "    <tr style=\"text-align: right;\">\n",
       "      <th></th>\n",
       "      <th>MSSubClass</th>\n",
       "      <th>LotArea</th>\n",
       "      <th>OverallQual</th>\n",
       "      <th>OverallCond</th>\n",
       "      <th>YearBuilt</th>\n",
       "      <th>YearRemodAdd</th>\n",
       "      <th>BsmtFinSF1</th>\n",
       "      <th>BsmtFinSF2</th>\n",
       "      <th>BsmtUnfSF</th>\n",
       "      <th>TotalBsmtSF</th>\n",
       "      <th>...</th>\n",
       "      <th>GarageArea</th>\n",
       "      <th>WoodDeckSF</th>\n",
       "      <th>OpenPorchSF</th>\n",
       "      <th>EnclosedPorch</th>\n",
       "      <th>3SsnPorch</th>\n",
       "      <th>ScreenPorch</th>\n",
       "      <th>PoolArea</th>\n",
       "      <th>MiscVal</th>\n",
       "      <th>MoSold</th>\n",
       "      <th>YrSold</th>\n",
       "    </tr>\n",
       "  </thead>\n",
       "  <tbody>\n",
       "    <tr>\n",
       "      <th>min</th>\n",
       "      <td>0.0</td>\n",
       "      <td>0.000893</td>\n",
       "      <td>0.111111</td>\n",
       "      <td>0.125</td>\n",
       "      <td>0.057971</td>\n",
       "      <td>0.0</td>\n",
       "      <td>0.000000</td>\n",
       "      <td>0.000000</td>\n",
       "      <td>0.000000</td>\n",
       "      <td>0.000000</td>\n",
       "      <td>...</td>\n",
       "      <td>0.000000</td>\n",
       "      <td>0.000000</td>\n",
       "      <td>0.000000</td>\n",
       "      <td>0.000000</td>\n",
       "      <td>0.000000</td>\n",
       "      <td>0.000</td>\n",
       "      <td>0.000000</td>\n",
       "      <td>0.00000</td>\n",
       "      <td>0.0</td>\n",
       "      <td>0.0</td>\n",
       "    </tr>\n",
       "    <tr>\n",
       "      <th>max</th>\n",
       "      <td>1.0</td>\n",
       "      <td>0.324668</td>\n",
       "      <td>1.000000</td>\n",
       "      <td>1.000</td>\n",
       "      <td>0.992754</td>\n",
       "      <td>1.0</td>\n",
       "      <td>0.387668</td>\n",
       "      <td>1.307897</td>\n",
       "      <td>0.874144</td>\n",
       "      <td>0.524714</td>\n",
       "      <td>...</td>\n",
       "      <td>0.980254</td>\n",
       "      <td>0.543757</td>\n",
       "      <td>0.500914</td>\n",
       "      <td>0.576087</td>\n",
       "      <td>0.468504</td>\n",
       "      <td>0.825</td>\n",
       "      <td>0.780488</td>\n",
       "      <td>0.03871</td>\n",
       "      <td>1.0</td>\n",
       "      <td>1.0</td>\n",
       "    </tr>\n",
       "  </tbody>\n",
       "</table>\n",
       "<p>2 rows × 33 columns</p>\n",
       "</div>"
      ],
      "text/plain": [
       "     MSSubClass   LotArea  OverallQual  OverallCond  YearBuilt  YearRemodAdd  \\\n",
       "min         0.0  0.000893     0.111111        0.125   0.057971           0.0   \n",
       "max         1.0  0.324668     1.000000        1.000   0.992754           1.0   \n",
       "\n",
       "     BsmtFinSF1  BsmtFinSF2  BsmtUnfSF  TotalBsmtSF  ...  GarageArea  \\\n",
       "min    0.000000    0.000000   0.000000     0.000000  ...    0.000000   \n",
       "max    0.387668    1.307897   0.874144     0.524714  ...    0.980254   \n",
       "\n",
       "     WoodDeckSF  OpenPorchSF  EnclosedPorch  3SsnPorch  ScreenPorch  PoolArea  \\\n",
       "min    0.000000     0.000000       0.000000   0.000000        0.000  0.000000   \n",
       "max    0.543757     0.500914       0.576087   0.468504        0.825  0.780488   \n",
       "\n",
       "     MiscVal  MoSold  YrSold  \n",
       "min  0.00000     0.0     0.0  \n",
       "max  0.03871     1.0     1.0  \n",
       "\n",
       "[2 rows x 33 columns]"
      ]
     },
     "execution_count": 20,
     "metadata": {},
     "output_type": "execute_result"
    }
   ],
   "source": [
    "# Verificando nova escala das fetures de teste após MinMaxScaler\n",
    "X_test_model_mms.describe().loc[['min', 'max']]"
   ]
  },
  {
   "cell_type": "code",
   "execution_count": 21,
   "metadata": {
    "ExecuteTime": {
     "end_time": "2022-11-10T00:09:17.958118Z",
     "start_time": "2022-11-10T00:09:17.943352Z"
    }
   },
   "outputs": [],
   "source": [
    "# Nova função para construção e avaliação do modelo com as features na mesma escala\n",
    "def reg_lin_pt1_pt2(X_train, y_train, X_test, y_test, plot=True, scale_mms=False):\n",
    "\n",
    "    if scale_mms:\n",
    "\n",
    "        mms = MinMaxScaler().fit(X_train)\n",
    "\n",
    "        # passamos assim, pra carregar o nome das features, e ter o .feature_names_in_\n",
    "        X_train = pd.DataFrame(mms.transform(X_train), columns=X_train.columns, index=X_train.index)\n",
    "        X_test = pd.DataFrame(mms.transform(X_test), columns=X_test.columns, index=X_test.index)\n",
    "\n",
    "    #         X_train = mms.transform(X_train)\n",
    "    #         X_test = mms.transform(X_test)\n",
    "\n",
    "    # ===============================\n",
    "    # passo 1 - construção do modelo\n",
    "\n",
    "    reglin = LinearRegression()\n",
    "\n",
    "    reglin.fit(X_train, y_train)\n",
    "\n",
    "    # ===============================\n",
    "    # passo 2 - avaliação do modelo\n",
    "\n",
    "    y_pred = reglin.predict(X_test)\n",
    "\n",
    "    print(\"\\nMétricas de avaliação (dados de teste):\\n\")\n",
    "\n",
    "    if plot:\n",
    "        plot_scatter_real_pred(y_test, y_pred)\n",
    "\n",
    "    r2 = r2_score(y_test, y_pred)\n",
    "    r2_adj = calc_r2_adj(r2, y_test, X_test)\n",
    "\n",
    "    print(f\"R^2: {r2:.2f} | Adj R^2: {r2_adj:.2f}\")\n",
    "    print(f\"MAE: {mean_absolute_error(y_test, y_pred):.2f}\")\n",
    "    print(f\"RMSE: {np.sqrt(mean_squared_error(y_test, y_pred)):.2f}\")\n",
    "    print(f\"MAPE: {(mean_absolute_percentage_error(y_test, y_pred))*100:.2f}%\")\n",
    "\n",
    "    residuos = y_test - y_pred\n",
    "    print(\"\\nDistribuição dos resíduos:\\n\")\n",
    "    print(residuos.describe())\n",
    "\n",
    "    if plot:\n",
    "        sns.histplot(residuos, kde=True)\n",
    "        plt.show()\n",
    "\n",
    "    # new: returnando o objeto do modelo treinado!\n",
    "    return reglin"
   ]
  },
  {
   "cell_type": "code",
   "execution_count": 22,
   "metadata": {
    "ExecuteTime": {
     "end_time": "2022-11-10T00:09:18.359040Z",
     "start_time": "2022-11-10T00:09:17.960091Z"
    },
    "scrolled": false
   },
   "outputs": [
    {
     "name": "stdout",
     "output_type": "stream",
     "text": [
      "\n",
      "Métricas de avaliação (dados de teste):\n",
      "\n"
     ]
    },
    {
     "data": {
      "image/png": "[encoded data removed]",
      "text/plain": [
       "<Figure size 432x288 with 1 Axes>"
      ]
     },
     "metadata": {
      "needs_background": "light"
     },
     "output_type": "display_data"
    },
    {
     "name": "stdout",
     "output_type": "stream",
     "text": [
      "R^2: 0.82 | Adj R^2: 0.80\n",
      "MAE: 22940.72\n",
      "RMSE: 37316.38\n",
      "MAPE: 13.45%\n",
      "\n",
      "Distribuição dos resíduos:\n",
      "\n",
      "count       292.000000\n",
      "mean       3903.959068\n",
      "std       37175.315065\n",
      "min      -72370.595187\n",
      "25%      -16258.855341\n",
      "50%         857.495237\n",
      "75%       16064.954677\n",
      "max      306336.546708\n",
      "Name: SalePrice, dtype: float64\n"
     ]
    },
    {
     "data": {
      "image/png": "[encoded data removed]",
      "text/plain": [
       "<Figure size 432x288 with 1 Axes>"
      ]
     },
     "metadata": {
      "needs_background": "light"
     },
     "output_type": "display_data"
    },
    {
     "data": {
      "text/html": [
       "<div>\n",
       "<style scoped>\n",
       "    .dataframe tbody tr th:only-of-type {\n",
       "        vertical-align: middle;\n",
       "    }\n",
       "\n",
       "    .dataframe tbody tr th {\n",
       "        vertical-align: top;\n",
       "    }\n",
       "\n",
       "    .dataframe thead th {\n",
       "        text-align: right;\n",
       "    }\n",
       "</style>\n",
       "<table border=\"1\" class=\"dataframe\">\n",
       "  <thead>\n",
       "    <tr style=\"text-align: right;\">\n",
       "      <th></th>\n",
       "      <th>param_value</th>\n",
       "    </tr>\n",
       "  </thead>\n",
       "  <tbody>\n",
       "    <tr>\n",
       "      <th>MSSubClass</th>\n",
       "      <td>-2.987006e+04</td>\n",
       "    </tr>\n",
       "    <tr>\n",
       "      <th>LotArea</th>\n",
       "      <td>8.758705e+04</td>\n",
       "    </tr>\n",
       "    <tr>\n",
       "      <th>OverallQual</th>\n",
       "      <td>1.665120e+05</td>\n",
       "    </tr>\n",
       "    <tr>\n",
       "      <th>OverallCond</th>\n",
       "      <td>3.070683e+04</td>\n",
       "    </tr>\n",
       "    <tr>\n",
       "      <th>YearBuilt</th>\n",
       "      <td>4.657209e+04</td>\n",
       "    </tr>\n",
       "    <tr>\n",
       "      <th>YearRemodAdd</th>\n",
       "      <td>1.079977e+04</td>\n",
       "    </tr>\n",
       "    <tr>\n",
       "      <th>BsmtFinSF1</th>\n",
       "      <td>3.235719e+16</td>\n",
       "    </tr>\n",
       "    <tr>\n",
       "      <th>BsmtFinSF2</th>\n",
       "      <td>6.461119e+15</td>\n",
       "    </tr>\n",
       "    <tr>\n",
       "      <th>BsmtUnfSF</th>\n",
       "      <td>1.339235e+16</td>\n",
       "    </tr>\n",
       "    <tr>\n",
       "      <th>TotalBsmtSF</th>\n",
       "      <td>-3.502878e+16</td>\n",
       "    </tr>\n",
       "    <tr>\n",
       "      <th>1stFlrSF</th>\n",
       "      <td>1.242763e+17</td>\n",
       "    </tr>\n",
       "    <tr>\n",
       "      <th>2ndFlrSF</th>\n",
       "      <td>5.888723e+16</td>\n",
       "    </tr>\n",
       "    <tr>\n",
       "      <th>LowQualFinSF</th>\n",
       "      <td>1.631162e+16</td>\n",
       "    </tr>\n",
       "    <tr>\n",
       "      <th>GrLivArea</th>\n",
       "      <td>-1.513673e+17</td>\n",
       "    </tr>\n",
       "    <tr>\n",
       "      <th>BsmtFullBath</th>\n",
       "      <td>3.316820e+04</td>\n",
       "    </tr>\n",
       "    <tr>\n",
       "      <th>BsmtHalfBath</th>\n",
       "      <td>-6.260461e+02</td>\n",
       "    </tr>\n",
       "    <tr>\n",
       "      <th>FullBath</th>\n",
       "      <td>1.027037e+04</td>\n",
       "    </tr>\n",
       "    <tr>\n",
       "      <th>HalfBath</th>\n",
       "      <td>-3.335933e+03</td>\n",
       "    </tr>\n",
       "    <tr>\n",
       "      <th>BedroomAbvGr</th>\n",
       "      <td>-7.271106e+04</td>\n",
       "    </tr>\n",
       "    <tr>\n",
       "      <th>KitchenAbvGr</th>\n",
       "      <td>-3.025950e+04</td>\n",
       "    </tr>\n",
       "    <tr>\n",
       "      <th>TotRmsAbvGrd</th>\n",
       "      <td>6.123904e+04</td>\n",
       "    </tr>\n",
       "    <tr>\n",
       "      <th>Fireplaces</th>\n",
       "      <td>1.311964e+04</td>\n",
       "    </tr>\n",
       "    <tr>\n",
       "      <th>GarageCars</th>\n",
       "      <td>4.646284e+04</td>\n",
       "    </tr>\n",
       "    <tr>\n",
       "      <th>GarageArea</th>\n",
       "      <td>7.398343e+02</td>\n",
       "    </tr>\n",
       "    <tr>\n",
       "      <th>WoodDeckSF</th>\n",
       "      <td>2.191769e+04</td>\n",
       "    </tr>\n",
       "    <tr>\n",
       "      <th>OpenPorchSF</th>\n",
       "      <td>-3.609842e+03</td>\n",
       "    </tr>\n",
       "    <tr>\n",
       "      <th>EnclosedPorch</th>\n",
       "      <td>3.904278e+03</td>\n",
       "    </tr>\n",
       "    <tr>\n",
       "      <th>3SsnPorch</th>\n",
       "      <td>1.965629e+04</td>\n",
       "    </tr>\n",
       "    <tr>\n",
       "      <th>ScreenPorch</th>\n",
       "      <td>3.150063e+04</td>\n",
       "    </tr>\n",
       "    <tr>\n",
       "      <th>PoolArea</th>\n",
       "      <td>-2.752886e+04</td>\n",
       "    </tr>\n",
       "    <tr>\n",
       "      <th>MiscVal</th>\n",
       "      <td>-1.111525e+04</td>\n",
       "    </tr>\n",
       "    <tr>\n",
       "      <th>MoSold</th>\n",
       "      <td>-2.307724e+03</td>\n",
       "    </tr>\n",
       "    <tr>\n",
       "      <th>YrSold</th>\n",
       "      <td>-2.053618e+03</td>\n",
       "    </tr>\n",
       "  </tbody>\n",
       "</table>\n",
       "</div>"
      ],
      "text/plain": [
       "                param_value\n",
       "MSSubClass    -2.987006e+04\n",
       "LotArea        8.758705e+04\n",
       "OverallQual    1.665120e+05\n",
       "OverallCond    3.070683e+04\n",
       "YearBuilt      4.657209e+04\n",
       "YearRemodAdd   1.079977e+04\n",
       "BsmtFinSF1     3.235719e+16\n",
       "BsmtFinSF2     6.461119e+15\n",
       "BsmtUnfSF      1.339235e+16\n",
       "TotalBsmtSF   -3.502878e+16\n",
       "1stFlrSF       1.242763e+17\n",
       "2ndFlrSF       5.888723e+16\n",
       "LowQualFinSF   1.631162e+16\n",
       "GrLivArea     -1.513673e+17\n",
       "BsmtFullBath   3.316820e+04\n",
       "BsmtHalfBath  -6.260461e+02\n",
       "FullBath       1.027037e+04\n",
       "HalfBath      -3.335933e+03\n",
       "BedroomAbvGr  -7.271106e+04\n",
       "KitchenAbvGr  -3.025950e+04\n",
       "TotRmsAbvGrd   6.123904e+04\n",
       "Fireplaces     1.311964e+04\n",
       "GarageCars     4.646284e+04\n",
       "GarageArea     7.398343e+02\n",
       "WoodDeckSF     2.191769e+04\n",
       "OpenPorchSF   -3.609842e+03\n",
       "EnclosedPorch  3.904278e+03\n",
       "3SsnPorch      1.965629e+04\n",
       "ScreenPorch    3.150063e+04\n",
       "PoolArea      -2.752886e+04\n",
       "MiscVal       -1.111525e+04\n",
       "MoSold        -2.307724e+03\n",
       "YrSold        -2.053618e+03"
      ]
     },
     "execution_count": 22,
     "metadata": {},
     "output_type": "execute_result"
    }
   ],
   "source": [
    "# Usando a função criada anteriormente\n",
    "reglin_multi_mms = reg_lin_pt1_pt2(X_train_model, y_train,\n",
    "                                   X_test_model, y_test,\n",
    "                                   plot=True, scale_mms=True)\n",
    "\n",
    "params_df = pd.DataFrame(reglin_multi_mms.coef_, index=reglin_multi_mms.feature_names_in_, columns=[\"param_value\"])\n",
    "\n",
    "params_df"
   ]
  },
  {
   "cell_type": "code",
   "execution_count": 23,
   "metadata": {
    "ExecuteTime": {
     "end_time": "2022-11-10T00:09:18.375860Z",
     "start_time": "2022-11-10T00:09:18.359602Z"
    }
   },
   "outputs": [
    {
     "data": {
      "text/plain": [
       "['GrLivArea',\n",
       " '1stFlrSF',\n",
       " '2ndFlrSF',\n",
       " 'TotalBsmtSF',\n",
       " 'BsmtFinSF1',\n",
       " 'LowQualFinSF',\n",
       " 'BsmtUnfSF',\n",
       " 'BsmtFinSF2',\n",
       " 'OverallQual',\n",
       " 'LotArea']"
      ]
     },
     "execution_count": 23,
     "metadata": {},
     "output_type": "execute_result"
    }
   ],
   "source": [
    "# lista com as 10 features mais importantes\n",
    "params_df.abs().sort_values(\"param_value\", ascending=False)[:10].index.tolist()"
   ]
  },
  {
   "cell_type": "code",
   "execution_count": 24,
   "metadata": {
    "ExecuteTime": {
     "end_time": "2022-11-10T00:09:18.391061Z",
     "start_time": "2022-11-10T00:09:18.377867Z"
    }
   },
   "outputs": [],
   "source": [
    "def calc_reg_metrics(model, X, y, label=\"\", plot=False):\n",
    "\n",
    "    y_pred = model.predict(X)\n",
    "\n",
    "    print(f\"\\nMétricas de avaliação (dados de {label}):\\n\")\n",
    "\n",
    "    if plot:\n",
    "        plot_scatter_real_pred(y, y_pred)\n",
    "\n",
    "    r2 = r2_score(y, y_pred)\n",
    "    r2_adj = calc_r2_adj(r2, y, X)\n",
    "\n",
    "    print(f\"R^2: {r2:.2f} | Adj R^2: {r2_adj:.2f}\")\n",
    "    print(f\"MAE: {mean_absolute_error(y, y_pred):.2f}\")\n",
    "    print(f\"RMSE: {np.sqrt(mean_squared_error(y, y_pred)):.2f}\")\n",
    "    print(f\"MAPE: {(mean_absolute_percentage_error(y, y_pred))*100:.2f}%\")\n",
    "\n",
    "    residuos = y - y_pred\n",
    "    print(f\"\\nDistribuição dos resíduos de {label}:\\n\")\n",
    "    print(residuos.describe())\n",
    "\n",
    "    if plot:\n",
    "        sns.histplot(residuos, kde=True)\n",
    "        plt.show()"
   ]
  },
  {
   "cell_type": "code",
   "execution_count": 41,
   "metadata": {
    "ExecuteTime": {
     "end_time": "2022-11-10T00:59:57.126746Z",
     "start_time": "2022-11-10T00:59:57.118752Z"
    }
   },
   "outputs": [],
   "source": [
    "def calc_reg_metrics(model, X, y, label=\"\", plot=False, dist_resids=True, print_stuff=True):\n",
    "\n",
    "    y_pred = model.predict(X)\n",
    "\n",
    "    if print_stuff:\n",
    "        print(f\"\\nMétricas de avaliação (dados de {label}):\\n\")\n",
    "\n",
    "    if plot:\n",
    "        plot_scatter_real_pred(y, y_pred)\n",
    "\n",
    "    r2 = r2_score(y, y_pred)\n",
    "    mae = mean_absolute_error(y, y_pred)\n",
    "    rmse = np.sqrt(mean_squared_error(y, y_pred))\n",
    "    mape = mean_absolute_percentage_error(y, y_pred)\n",
    "\n",
    "    if print_stuff:\n",
    "        print(f\"R^2: {r2:.2f}\")\n",
    "        print(f\"MAE: {mae:.2f}\")\n",
    "        print(f\"RMSE: {rmse:.2f}\")\n",
    "        print(f\"MAPE: {mape:.2%}\")\n",
    "\n",
    "    if dist_resids:\n",
    "        residuos = y - y_pred\n",
    "        print(f\"\\nDistribuição dos resíduos de {label}:\\n\")\n",
    "        print(pd.Series(residuos).describe())\n",
    "\n",
    "    if plot:\n",
    "        sns.histplot(residuos, kde=True)\n",
    "        plt.show()\n",
    "\n",
    "    # retorna um dicionário com as métricas\n",
    "    metrics_dict = {\"r2\" : r2,\n",
    "                    \"mae\" : mae,\n",
    "                    \"rmse\" : rmse,\n",
    "                    \"mape\" : mape}\n",
    "\n",
    "    return metrics_dict\n"
   ]
  },
  {
   "cell_type": "code",
   "execution_count": 42,
   "metadata": {
    "ExecuteTime": {
     "end_time": "2022-11-10T00:59:58.048021Z",
     "start_time": "2022-11-10T00:59:58.042367Z"
    }
   },
   "outputs": [],
   "source": [
    "def reg_lin_pt1_pt2(X_train, y_train, X_test, y_test, plot=True, scale_mms=False, train_metrics=True):\n",
    "\n",
    "    if scale_mms:\n",
    "\n",
    "        mms = MinMaxScaler().fit(X_train)\n",
    "\n",
    "        # passamos assim, pra carregar o nome das features, e ter o .feature_names_in_\n",
    "        X_train = pd.DataFrame(mms.transform(X_train), columns=X_train.columns, index=X_train.index)\n",
    "        X_test = pd.DataFrame(mms.transform(X_test), columns=X_test.columns, index=X_test.index)\n",
    "\n",
    "    # ===============================\n",
    "    # passo 1 - construção do modelo\n",
    "\n",
    "    reglin = LinearRegression()\n",
    "\n",
    "    reglin.fit(X_train, y_train)\n",
    "\n",
    "    # ===============================\n",
    "    # passo 2 - avaliação do modelo\n",
    "\n",
    "    if train_metrics:\n",
    "        calc_reg_metrics(reglin, X_train, y_train, label=\"treino\", plot=plot, dist_resids=True)\n",
    "        print()\n",
    "        print(\"#\"*50)\n",
    "\n",
    "    calc_reg_metrics(reglin, X_test, y_test, label=\"teste\", plot=plot, dist_resids=True)\n",
    "\n",
    "    # new: returnando o objeto do modelo treinado!\n",
    "    return reglin"
   ]
  },
  {
   "cell_type": "code",
   "execution_count": 44,
   "metadata": {
    "ExecuteTime": {
     "end_time": "2022-11-10T01:00:10.060048Z",
     "start_time": "2022-11-10T01:00:08.732547Z"
    },
    "scrolled": false
   },
   "outputs": [
    {
     "name": "stdout",
     "output_type": "stream",
     "text": [
      "\n",
      "Métricas de avaliação (dados de treino):\n",
      "\n"
     ]
    },
    {
     "data": {
      "image/png": "[encoded data removed]",
      "text/plain": [
       "<Figure size 432x288 with 1 Axes>"
      ]
     },
     "metadata": {
      "needs_background": "light"
     },
     "output_type": "display_data"
    },
    {
     "name": "stdout",
     "output_type": "stream",
     "text": [
      "R^2: 0.80\n",
      "MAE: 21056.12\n",
      "RMSE: 34240.94\n",
      "MAPE: 12.42%\n",
      "\n",
      "Distribuição dos resíduos de treino:\n",
      "\n",
      "count      1168.000000\n",
      "mean         -2.602597\n",
      "std       34255.607974\n",
      "min     -438006.649947\n",
      "25%      -16778.047956\n",
      "50%       -2494.917508\n",
      "75%       12932.933237\n",
      "max      304624.905889\n",
      "Name: SalePrice, dtype: float64\n"
     ]
    },
    {
     "data": {
      "image/png": "[encoded data removed]",
      "text/plain": [
       "<Figure size 432x288 with 1 Axes>"
      ]
     },
     "metadata": {
      "needs_background": "light"
     },
     "output_type": "display_data"
    },
    {
     "name": "stdout",
     "output_type": "stream",
     "text": [
      "\n",
      "##################################################\n",
      "\n",
      "Métricas de avaliação (dados de teste):\n",
      "\n"
     ]
    },
    {
     "data": {
      "image/png": "[encoded data removed]",
      "text/plain": [
       "<Figure size 432x288 with 1 Axes>"
      ]
     },
     "metadata": {
      "needs_background": "light"
     },
     "output_type": "display_data"
    },
    {
     "name": "stdout",
     "output_type": "stream",
     "text": [
      "R^2: 0.82\n",
      "MAE: 22940.72\n",
      "RMSE: 37316.38\n",
      "MAPE: 13.45%\n",
      "\n",
      "Distribuição dos resíduos de teste:\n",
      "\n",
      "count       292.000000\n",
      "mean       3903.959068\n",
      "std       37175.315065\n",
      "min      -72370.595187\n",
      "25%      -16258.855341\n",
      "50%         857.495237\n",
      "75%       16064.954677\n",
      "max      306336.546708\n",
      "Name: SalePrice, dtype: float64\n"
     ]
    },
    {
     "data": {
      "image/png": "[encoded data removed]",
      "text/plain": [
       "<Figure size 432x288 with 1 Axes>"
      ]
     },
     "metadata": {
      "needs_background": "light"
     },
     "output_type": "display_data"
    }
   ],
   "source": [
    "# Modelo de regressão linear múltipla com dados normalizados\n",
    "reglin_multi_mms_metrics = reg_lin_pt1_pt2(X_train_model, y_train,\n",
    "                                   X_test_model, y_test,\n",
    "                                   plot=True, scale_mms=True, train_metrics=True)"
   ]
  }
 ],
 "metadata": {
  "kernelspec": {
   "display_name": "Python 3 (ipykernel)",
   "language": "python",
   "name": "python3"
  },
  "language_info": {
   "codemirror_mode": {
    "name": "ipython",
    "version": 3
   },
   "file_extension": ".py",
   "mimetype": "text/x-python",
   "name": "python",
   "nbconvert_exporter": "python",
   "pygments_lexer": "ipython3",
   "version": "3.9.7"
  },
  "toc": {
   "base_numbering": 1,
   "nav_menu": {},
   "number_sections": true,
   "sideBar": true,
   "skip_h1_title": false,
   "title_cell": "Table of Contents",
   "title_sidebar": "Contents",
   "toc_cell": false,
   "toc_position": {},
   "toc_section_display": true,
   "toc_window_display": false
  },
  "varInspector": {
   "cols": {
    "lenName": 16,
    "lenType": 16,
    "lenVar": 40
   },
   "kernels_config": {
    "python": {
     "delete_cmd_postfix": "",
     "delete_cmd_prefix": "del ",
     "library": "var_list.py",
     "varRefreshCmd": "print(var_dic_list())"
    },
    "r": {
     "delete_cmd_postfix": ") ",
     "delete_cmd_prefix": "rm(",
     "library": "var_list.r",
     "varRefreshCmd": "cat(var_dic_list()) "
    }
   },
   "position": {
    "height": "565.844px",
    "left": "585px",
    "right": "20px",
    "top": "17px",
    "width": "610px"
   },
   "types_to_exclude": [
    "module",
    "function",
    "builtin_function_or_method",
    "instance",
    "_Feature"
   ],
   "window_display": false
  }
 },
 "nbformat": 4,
 "nbformat_minor": 1
}
