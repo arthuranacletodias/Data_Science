{
 "cells": [
  {
   "cell_type": "code",
   "execution_count": 2,
   "id": "3b60e9e9",
   "metadata": {
    "ExecuteTime": {
     "end_time": "2022-11-19T21:24:25.048830Z",
     "start_time": "2022-11-19T21:24:24.974196Z"
    }
   },
   "outputs": [],
   "source": [
    "# Recarregue todos os módulos toda vez antes de executar o código Python digitado\n",
    "%load_ext autoreload\n",
    "%autoreload 2"
   ]
  },
  {
   "cell_type": "code",
   "execution_count": 3,
   "id": "ed3188b3",
   "metadata": {
    "ExecuteTime": {
     "end_time": "2022-11-19T21:24:30.586351Z",
     "start_time": "2022-11-19T21:24:25.050795Z"
    }
   },
   "outputs": [],
   "source": [
    "# importando funções e bibliotecas \n",
    "from ml_utils import *"
   ]
  },
  {
   "cell_type": "code",
   "execution_count": 4,
   "id": "b363d1f7",
   "metadata": {
    "ExecuteTime": {
     "end_time": "2022-11-19T21:24:30.775006Z",
     "start_time": "2022-11-19T21:24:30.587351Z"
    }
   },
   "outputs": [],
   "source": [
    "# lendo base de dados\n",
    "df = pd.read_csv('../datasets/house_prices.csv')\n",
    "# Definindo features que serão utilizadas\n",
    "X = df.drop(columns=['Id', 'SalePrice'])\n",
    "# Definindo target\n",
    "y = df['SalePrice']\n",
    "# Dividindo em treino e teste para treinamento e avaliação do modelo\n",
    "X_train, X_test, y_train, y_test = train_test_split(X, y, test_size=0.2 ,random_state=42)\n",
    "# Escolhendo apenas as colunas numéricas para treino \n",
    "X_train_model = X_train.select_dtypes(include=np.number).dropna(axis='columns')\n",
    "X_test_model = X_test.loc[:, X_train_model.columns]"
   ]
  },
  {
   "cell_type": "code",
   "execution_count": 5,
   "id": "483e97ee",
   "metadata": {
    "ExecuteTime": {
     "end_time": "2022-11-19T21:24:30.854333Z",
     "start_time": "2022-11-19T21:24:30.777337Z"
    }
   },
   "outputs": [
    {
     "data": {
      "text/plain": [
       "(1168, 33)"
      ]
     },
     "execution_count": 5,
     "metadata": {},
     "output_type": "execute_result"
    }
   ],
   "source": [
    "# linhas e colunas da base de treino\n",
    "X_train_model.shape"
   ]
  },
  {
   "cell_type": "code",
   "execution_count": 6,
   "id": "8af85980",
   "metadata": {
    "ExecuteTime": {
     "end_time": "2022-11-19T21:24:30.998352Z",
     "start_time": "2022-11-19T21:24:30.855302Z"
    }
   },
   "outputs": [
    {
     "name": "stdout",
     "output_type": "stream",
     "text": [
      "\n",
      "Métricas de avaliação (dados de treino):\n",
      "\n",
      "R^2: 0.80\n",
      "MAE: 21054.72\n",
      "RMSE: 34241.17\n",
      "MAPE: 12.42%\n",
      "\n",
      "##################################################\n",
      "\n",
      "Métricas de avaliação (dados de teste):\n",
      "\n",
      "R^2: 0.82\n",
      "MAE: 22938.25\n",
      "RMSE: 37312.27\n",
      "MAPE: 13.45%\n"
     ]
    }
   ],
   "source": [
    "# Regressão linear Polinomial de grau 1\n",
    "_ = reg_lin_poly_features(X_train_model, y_train, X_test_model, y_test, \n",
    "                          deg=1, plot=False, scale_mms=False,\n",
    "                          train_metrics=True, dist_resids=False,\n",
    "                          plot_model=True)"
   ]
  },
  {
   "cell_type": "code",
   "execution_count": 7,
   "id": "ab3c62fa",
   "metadata": {
    "ExecuteTime": {
     "end_time": "2022-11-19T21:24:31.492994Z",
     "start_time": "2022-11-19T21:24:31.000318Z"
    }
   },
   "outputs": [
    {
     "name": "stdout",
     "output_type": "stream",
     "text": [
      "Modelo com espaço de features transformado!\n",
      "\n",
      "Número de features original: 33\n",
      "Número de features após o transformer: 594\n",
      "\n",
      "==================================================\n",
      "\n",
      "Métricas de avaliação (dados de treino):\n",
      "\n",
      "R^2: 0.96\n",
      "MAE: 10528.17\n",
      "RMSE: 14982.18\n",
      "MAPE: 6.41%\n",
      "\n",
      "##################################################\n",
      "\n",
      "Métricas de avaliação (dados de teste):\n",
      "\n",
      "R^2: 0.62\n",
      "MAE: 27632.35\n",
      "RMSE: 53860.65\n",
      "MAPE: 18.02%\n"
     ]
    }
   ],
   "source": [
    "# # Regressão linear Polinomial de grau 2\n",
    "_ = reg_lin_poly_features(X_train_model, y_train, X_test_model, y_test, \n",
    "                          deg=2, plot=False, scale_mms=False,\n",
    "                          train_metrics=True, dist_resids=False,\n",
    "                          plot_model=True)"
   ]
  },
  {
   "cell_type": "code",
   "execution_count": 8,
   "id": "2a2a874b",
   "metadata": {
    "ExecuteTime": {
     "end_time": "2022-11-19T21:24:35.445797Z",
     "start_time": "2022-11-19T21:24:31.495004Z"
    },
    "scrolled": false
   },
   "outputs": [
    {
     "name": "stdout",
     "output_type": "stream",
     "text": [
      "Modelo com espaço de features transformado!\n",
      "\n",
      "Número de features original: 33\n",
      "Número de features após o transformer: 7139\n",
      "\n",
      "==================================================\n",
      "\n",
      "Métricas de avaliação (dados de treino):\n",
      "\n",
      "R^2: 1.00\n",
      "MAE: 7.11\n",
      "RMSE: 171.73\n",
      "MAPE: 0.00%\n",
      "\n",
      "##################################################\n",
      "\n",
      "Métricas de avaliação (dados de teste):\n",
      "\n",
      "R^2: -491.61\n",
      "MAE: 498602.45\n",
      "RMSE: 1943827.81\n",
      "MAPE: 274.35%\n"
     ]
    }
   ],
   "source": [
    "# Regressão linear Polinomial de grau 3\n",
    "_ = reg_lin_poly_features(X_train_model, y_train, X_test_model, y_test, \n",
    "                          deg=3, plot=False, scale_mms=False,\n",
    "                          train_metrics=True, dist_resids=False,\n",
    "                          plot_model=True)"
   ]
  },
  {
   "cell_type": "code",
   "execution_count": 9,
   "id": "f81a849a",
   "metadata": {
    "ExecuteTime": {
     "end_time": "2022-11-19T21:24:35.906832Z",
     "start_time": "2022-11-19T21:24:35.445797Z"
    }
   },
   "outputs": [
    {
     "name": "stdout",
     "output_type": "stream",
     "text": [
      "Modelo com espaço de features transformado!\n",
      "\n",
      "Número de features original: 33\n",
      "Número de features após o transformer: 594\n",
      "\n",
      "==================================================\n",
      "\n",
      "Métricas de avaliação (dados de treino):\n",
      "\n",
      "R^2: 0.96\n",
      "MAE: 10528.17\n",
      "RMSE: 14982.18\n",
      "MAPE: 6.41%\n",
      "\n",
      "##################################################\n",
      "\n",
      "Métricas de avaliação (dados de teste):\n",
      "\n",
      "R^2: 0.62\n",
      "MAE: 27632.35\n",
      "RMSE: 53860.65\n",
      "MAPE: 18.02%\n"
     ]
    }
   ],
   "source": [
    "# # Regressão linear Polinomial de grau 2 sem regularização\n",
    "_ = reg_lin_poly_features_regularized(X_train_model, y_train,\n",
    "                                      X_test_model, y_test,\n",
    "                                      deg=2,\n",
    "                                      type_regularization=None,\n",
    "                                      plot=False,\n",
    "                                      scale_mms=False,\n",
    "                                      train_metrics=True,\n",
    "                                      dist_resids=False,\n",
    "                                      plot_model=False)"
   ]
  },
  {
   "cell_type": "code",
   "execution_count": 10,
   "id": "49189012",
   "metadata": {
    "ExecuteTime": {
     "end_time": "2022-11-19T21:24:50.402623Z",
     "start_time": "2022-11-19T21:24:35.907831Z"
    }
   },
   "outputs": [
    {
     "name": "stdout",
     "output_type": "stream",
     "text": [
      "Modelo com espaço de features transformado!\n",
      "\n",
      "Número de features original: 33\n",
      "Número de features após o transformer: 7139\n",
      "\n",
      "==================================================\n",
      "\n",
      "Métricas de avaliação (dados de treino):\n",
      "\n",
      "R^2: 0.93\n",
      "MAE: 14550.68\n",
      "RMSE: 20633.57\n",
      "MAPE: 8.53%\n",
      "\n",
      "##################################################\n",
      "\n",
      "Métricas de avaliação (dados de teste):\n",
      "\n",
      "R^2: 0.89\n",
      "MAE: 18155.80\n",
      "RMSE: 28770.64\n",
      "MAPE: 10.80%\n"
     ]
    }
   ],
   "source": [
    "# # Regressão linear Polinomial de grau 3 com regularização l1 lasso\n",
    "_ = reg_lin_poly_features_regularized(X_train_model, y_train,\n",
    "                                      X_test_model, y_test,\n",
    "                                      deg=3,\n",
    "                                      type_regularization='l1',alpha=50,\n",
    "                                      iter_max=2000,\n",
    "                                      plot=False,\n",
    "                                      scale_mms=False,\n",
    "                                      train_metrics=True,\n",
    "                                      dist_resids=False,\n",
    "                                      plot_model=False)"
   ]
  },
  {
   "cell_type": "code",
   "execution_count": 11,
   "id": "848f31d8",
   "metadata": {
    "ExecuteTime": {
     "end_time": "2022-11-19T21:24:50.964203Z",
     "start_time": "2022-11-19T21:24:50.402623Z"
    }
   },
   "outputs": [
    {
     "name": "stdout",
     "output_type": "stream",
     "text": [
      "Modelo com espaço de features transformado!\n",
      "\n",
      "Número de features original: 33\n",
      "Número de features após o transformer: 7139\n",
      "\n",
      "==================================================\n",
      "\n",
      "Métricas de avaliação (dados de treino):\n",
      "\n",
      "R^2: 0.96\n",
      "MAE: 10184.80\n",
      "RMSE: 14890.22\n",
      "MAPE: 6.09%\n",
      "\n",
      "##################################################\n",
      "\n",
      "Métricas de avaliação (dados de teste):\n",
      "\n",
      "R^2: 0.87\n",
      "MAE: 19176.06\n",
      "RMSE: 31220.60\n",
      "MAPE: 11.33%\n"
     ]
    }
   ],
   "source": [
    "# # Regressão linear Polinomial de grau 3 com regularização l2 ridge\n",
    "_ = reg_lin_poly_features_regularized(X_train_model, y_train,\n",
    "                                      X_test_model, y_test,\n",
    "                                      deg=3,\n",
    "                                      type_regularization='l2',alpha=1,\n",
    "                                      iter_max=2000,\n",
    "                                      plot=False,\n",
    "                                      scale_mms=False,\n",
    "                                      train_metrics=True,\n",
    "                                      dist_resids=False,\n",
    "                                      plot_model=False)"
   ]
  },
  {
   "cell_type": "code",
   "execution_count": 12,
   "id": "f2823a8d",
   "metadata": {
    "ExecuteTime": {
     "end_time": "2022-11-19T21:24:51.636075Z",
     "start_time": "2022-11-19T21:24:50.964203Z"
    }
   },
   "outputs": [
    {
     "name": "stdout",
     "output_type": "stream",
     "text": [
      "Modelo com espaço de features transformado!\n",
      "\n",
      "Número de features original: 33\n",
      "Número de features após o transformer: 594\n",
      "\n",
      "==================================================\n",
      "\n",
      "Métricas de avaliação (dados de treino):\n",
      "\n",
      "R^2: 0.85\n",
      "MAE: 18711.61\n",
      "RMSE: 30008.38\n",
      "MAPE: 10.65%\n",
      "\n",
      "##################################################\n",
      "\n",
      "Métricas de avaliação (dados de teste):\n",
      "\n",
      "R^2: 0.84\n",
      "MAE: 20734.75\n",
      "RMSE: 34656.09\n",
      "MAPE: 11.78%\n"
     ]
    }
   ],
   "source": [
    "# # Regressão linear Polinomial de grau 2 com regularização elasticnet\n",
    "reglin_2, metrics_train, metrics_test = reg_lin_poly_features_regularized(X_train_model, y_train,\n",
    "                                      X_test_model, y_test,\n",
    "                                      deg=2,\n",
    "                                      type_regularization='en', alpha=0.1, l1_ratio=0.8,\n",
    "                                      iter_max=2000,\n",
    "                                      plot=False,\n",
    "                                      scale_mms=False,\n",
    "                                      train_metrics=True,\n",
    "                                      dist_resids=False,\n",
    "                                      plot_model=False)"
   ]
  },
  {
   "cell_type": "code",
   "execution_count": 13,
   "id": "600dbea3",
   "metadata": {
    "ExecuteTime": {
     "end_time": "2022-11-19T21:26:40.107122Z",
     "start_time": "2022-11-19T21:26:40.019493Z"
    }
   },
   "outputs": [
    {
     "data": {
      "text/plain": [
       "ElasticNet(alpha=0.1, l1_ratio=0.8, max_iter=2000)"
      ]
     },
     "execution_count": 13,
     "metadata": {},
     "output_type": "execute_result"
    }
   ],
   "source": [
    "reglin_2"
   ]
  },
  {
   "cell_type": "code",
   "execution_count": 14,
   "id": "7a94b734",
   "metadata": {
    "ExecuteTime": {
     "end_time": "2022-11-19T21:26:47.753799Z",
     "start_time": "2022-11-19T21:26:47.648375Z"
    }
   },
   "outputs": [
    {
     "data": {
      "text/plain": [
       "{'r2': 0.8434167883707057,\n",
       " 'mae': 20734.751263251448,\n",
       " 'rmse': 34656.08621534902,\n",
       " 'mape': 0.1177880423484759}"
      ]
     },
     "execution_count": 14,
     "metadata": {},
     "output_type": "execute_result"
    }
   ],
   "source": [
    "metrics_test"
   ]
  },
  {
   "cell_type": "code",
   "execution_count": 17,
   "id": "17fdd10b",
   "metadata": {
    "ExecuteTime": {
     "end_time": "2022-11-19T21:27:12.029275Z",
     "start_time": "2022-11-19T21:27:11.937234Z"
    }
   },
   "outputs": [
    {
     "data": {
      "text/plain": [
       "{'r2': 0.8490242242235437,\n",
       " 'mae': 18711.607973717193,\n",
       " 'rmse': 30008.37584314766,\n",
       " 'mape': 0.10649997669482242}"
      ]
     },
     "execution_count": 17,
     "metadata": {},
     "output_type": "execute_result"
    }
   ],
   "source": [
    "metrics_train"
   ]
  }
 ],
 "metadata": {
  "kernelspec": {
   "display_name": "Python 3 (ipykernel)",
   "language": "python",
   "name": "python3"
  },
  "language_info": {
   "codemirror_mode": {
    "name": "ipython",
    "version": 3
   },
   "file_extension": ".py",
   "mimetype": "text/x-python",
   "name": "python",
   "nbconvert_exporter": "python",
   "pygments_lexer": "ipython3",
   "version": "3.9.7"
  },
  "toc": {
   "base_numbering": 1,
   "nav_menu": {},
   "number_sections": true,
   "sideBar": true,
   "skip_h1_title": false,
   "title_cell": "Table of Contents",
   "title_sidebar": "Contents",
   "toc_cell": false,
   "toc_position": {},
   "toc_section_display": true,
   "toc_window_display": false
  },
  "varInspector": {
   "cols": {
    "lenName": 16,
    "lenType": 16,
    "lenVar": 40
   },
   "kernels_config": {
    "python": {
     "delete_cmd_postfix": "",
     "delete_cmd_prefix": "del ",
     "library": "var_list.py",
     "varRefreshCmd": "print(var_dic_list())"
    },
    "r": {
     "delete_cmd_postfix": ") ",
     "delete_cmd_prefix": "rm(",
     "library": "var_list.r",
     "varRefreshCmd": "cat(var_dic_list()) "
    }
   },
   "types_to_exclude": [
    "module",
    "function",
    "builtin_function_or_method",
    "instance",
    "_Feature"
   ],
   "window_display": false
  }
 },
 "nbformat": 4,
 "nbformat_minor": 5
}
